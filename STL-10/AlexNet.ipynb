{
  "nbformat": 4,
  "nbformat_minor": 0,
  "metadata": {
    "colab": {
      "provenance": []
    },
    "kernelspec": {
      "name": "python3",
      "display_name": "Python 3"
    },
    "language_info": {
      "name": "python"
    },
    "accelerator": "GPU",
    "gpuClass": "standard",
    "widgets": {
      "application/vnd.jupyter.widget-state+json": {
        "63be6c01e59549a1b0373f51364c811f": {
          "model_module": "@jupyter-widgets/controls",
          "model_name": "HBoxModel",
          "model_module_version": "1.5.0",
          "state": {
            "_dom_classes": [],
            "_model_module": "@jupyter-widgets/controls",
            "_model_module_version": "1.5.0",
            "_model_name": "HBoxModel",
            "_view_count": null,
            "_view_module": "@jupyter-widgets/controls",
            "_view_module_version": "1.5.0",
            "_view_name": "HBoxView",
            "box_style": "",
            "children": [
              "IPY_MODEL_5044443480924572b1e5af7abcffc397",
              "IPY_MODEL_5a1707f2cc684a539f7dc920bc74875f",
              "IPY_MODEL_c2e9cffc584b4ac5afea3cb00d6a8064"
            ],
            "layout": "IPY_MODEL_d3867bf38f9a48128cb1fbae107beb65"
          }
        },
        "5044443480924572b1e5af7abcffc397": {
          "model_module": "@jupyter-widgets/controls",
          "model_name": "HTMLModel",
          "model_module_version": "1.5.0",
          "state": {
            "_dom_classes": [],
            "_model_module": "@jupyter-widgets/controls",
            "_model_module_version": "1.5.0",
            "_model_name": "HTMLModel",
            "_view_count": null,
            "_view_module": "@jupyter-widgets/controls",
            "_view_module_version": "1.5.0",
            "_view_name": "HTMLView",
            "description": "",
            "description_tooltip": null,
            "layout": "IPY_MODEL_c9b9f687b39d46ff863e620a6649f977",
            "placeholder": "​",
            "style": "IPY_MODEL_4fc7335053b64e44b5bb92edf3ac2482",
            "value": "100%"
          }
        },
        "5a1707f2cc684a539f7dc920bc74875f": {
          "model_module": "@jupyter-widgets/controls",
          "model_name": "FloatProgressModel",
          "model_module_version": "1.5.0",
          "state": {
            "_dom_classes": [],
            "_model_module": "@jupyter-widgets/controls",
            "_model_module_version": "1.5.0",
            "_model_name": "FloatProgressModel",
            "_view_count": null,
            "_view_module": "@jupyter-widgets/controls",
            "_view_module_version": "1.5.0",
            "_view_name": "ProgressView",
            "bar_style": "success",
            "description": "",
            "description_tooltip": null,
            "layout": "IPY_MODEL_369675a59fa144729ad1f45142701a06",
            "max": 2640397119,
            "min": 0,
            "orientation": "horizontal",
            "style": "IPY_MODEL_3364680179ff499d8d128e564cc6ee44",
            "value": 2640397119
          }
        },
        "c2e9cffc584b4ac5afea3cb00d6a8064": {
          "model_module": "@jupyter-widgets/controls",
          "model_name": "HTMLModel",
          "model_module_version": "1.5.0",
          "state": {
            "_dom_classes": [],
            "_model_module": "@jupyter-widgets/controls",
            "_model_module_version": "1.5.0",
            "_model_name": "HTMLModel",
            "_view_count": null,
            "_view_module": "@jupyter-widgets/controls",
            "_view_module_version": "1.5.0",
            "_view_name": "HTMLView",
            "description": "",
            "description_tooltip": null,
            "layout": "IPY_MODEL_64848de21c0e4fd995776d54f21e0b8c",
            "placeholder": "​",
            "style": "IPY_MODEL_30f74cf524194aaf8ce02da8556ee1db",
            "value": " 2640397119/2640397119 [01:12&lt;00:00, 87106248.67it/s]"
          }
        },
        "d3867bf38f9a48128cb1fbae107beb65": {
          "model_module": "@jupyter-widgets/base",
          "model_name": "LayoutModel",
          "model_module_version": "1.2.0",
          "state": {
            "_model_module": "@jupyter-widgets/base",
            "_model_module_version": "1.2.0",
            "_model_name": "LayoutModel",
            "_view_count": null,
            "_view_module": "@jupyter-widgets/base",
            "_view_module_version": "1.2.0",
            "_view_name": "LayoutView",
            "align_content": null,
            "align_items": null,
            "align_self": null,
            "border": null,
            "bottom": null,
            "display": null,
            "flex": null,
            "flex_flow": null,
            "grid_area": null,
            "grid_auto_columns": null,
            "grid_auto_flow": null,
            "grid_auto_rows": null,
            "grid_column": null,
            "grid_gap": null,
            "grid_row": null,
            "grid_template_areas": null,
            "grid_template_columns": null,
            "grid_template_rows": null,
            "height": null,
            "justify_content": null,
            "justify_items": null,
            "left": null,
            "margin": null,
            "max_height": null,
            "max_width": null,
            "min_height": null,
            "min_width": null,
            "object_fit": null,
            "object_position": null,
            "order": null,
            "overflow": null,
            "overflow_x": null,
            "overflow_y": null,
            "padding": null,
            "right": null,
            "top": null,
            "visibility": null,
            "width": null
          }
        },
        "c9b9f687b39d46ff863e620a6649f977": {
          "model_module": "@jupyter-widgets/base",
          "model_name": "LayoutModel",
          "model_module_version": "1.2.0",
          "state": {
            "_model_module": "@jupyter-widgets/base",
            "_model_module_version": "1.2.0",
            "_model_name": "LayoutModel",
            "_view_count": null,
            "_view_module": "@jupyter-widgets/base",
            "_view_module_version": "1.2.0",
            "_view_name": "LayoutView",
            "align_content": null,
            "align_items": null,
            "align_self": null,
            "border": null,
            "bottom": null,
            "display": null,
            "flex": null,
            "flex_flow": null,
            "grid_area": null,
            "grid_auto_columns": null,
            "grid_auto_flow": null,
            "grid_auto_rows": null,
            "grid_column": null,
            "grid_gap": null,
            "grid_row": null,
            "grid_template_areas": null,
            "grid_template_columns": null,
            "grid_template_rows": null,
            "height": null,
            "justify_content": null,
            "justify_items": null,
            "left": null,
            "margin": null,
            "max_height": null,
            "max_width": null,
            "min_height": null,
            "min_width": null,
            "object_fit": null,
            "object_position": null,
            "order": null,
            "overflow": null,
            "overflow_x": null,
            "overflow_y": null,
            "padding": null,
            "right": null,
            "top": null,
            "visibility": null,
            "width": null
          }
        },
        "4fc7335053b64e44b5bb92edf3ac2482": {
          "model_module": "@jupyter-widgets/controls",
          "model_name": "DescriptionStyleModel",
          "model_module_version": "1.5.0",
          "state": {
            "_model_module": "@jupyter-widgets/controls",
            "_model_module_version": "1.5.0",
            "_model_name": "DescriptionStyleModel",
            "_view_count": null,
            "_view_module": "@jupyter-widgets/base",
            "_view_module_version": "1.2.0",
            "_view_name": "StyleView",
            "description_width": ""
          }
        },
        "369675a59fa144729ad1f45142701a06": {
          "model_module": "@jupyter-widgets/base",
          "model_name": "LayoutModel",
          "model_module_version": "1.2.0",
          "state": {
            "_model_module": "@jupyter-widgets/base",
            "_model_module_version": "1.2.0",
            "_model_name": "LayoutModel",
            "_view_count": null,
            "_view_module": "@jupyter-widgets/base",
            "_view_module_version": "1.2.0",
            "_view_name": "LayoutView",
            "align_content": null,
            "align_items": null,
            "align_self": null,
            "border": null,
            "bottom": null,
            "display": null,
            "flex": null,
            "flex_flow": null,
            "grid_area": null,
            "grid_auto_columns": null,
            "grid_auto_flow": null,
            "grid_auto_rows": null,
            "grid_column": null,
            "grid_gap": null,
            "grid_row": null,
            "grid_template_areas": null,
            "grid_template_columns": null,
            "grid_template_rows": null,
            "height": null,
            "justify_content": null,
            "justify_items": null,
            "left": null,
            "margin": null,
            "max_height": null,
            "max_width": null,
            "min_height": null,
            "min_width": null,
            "object_fit": null,
            "object_position": null,
            "order": null,
            "overflow": null,
            "overflow_x": null,
            "overflow_y": null,
            "padding": null,
            "right": null,
            "top": null,
            "visibility": null,
            "width": null
          }
        },
        "3364680179ff499d8d128e564cc6ee44": {
          "model_module": "@jupyter-widgets/controls",
          "model_name": "ProgressStyleModel",
          "model_module_version": "1.5.0",
          "state": {
            "_model_module": "@jupyter-widgets/controls",
            "_model_module_version": "1.5.0",
            "_model_name": "ProgressStyleModel",
            "_view_count": null,
            "_view_module": "@jupyter-widgets/base",
            "_view_module_version": "1.2.0",
            "_view_name": "StyleView",
            "bar_color": null,
            "description_width": ""
          }
        },
        "64848de21c0e4fd995776d54f21e0b8c": {
          "model_module": "@jupyter-widgets/base",
          "model_name": "LayoutModel",
          "model_module_version": "1.2.0",
          "state": {
            "_model_module": "@jupyter-widgets/base",
            "_model_module_version": "1.2.0",
            "_model_name": "LayoutModel",
            "_view_count": null,
            "_view_module": "@jupyter-widgets/base",
            "_view_module_version": "1.2.0",
            "_view_name": "LayoutView",
            "align_content": null,
            "align_items": null,
            "align_self": null,
            "border": null,
            "bottom": null,
            "display": null,
            "flex": null,
            "flex_flow": null,
            "grid_area": null,
            "grid_auto_columns": null,
            "grid_auto_flow": null,
            "grid_auto_rows": null,
            "grid_column": null,
            "grid_gap": null,
            "grid_row": null,
            "grid_template_areas": null,
            "grid_template_columns": null,
            "grid_template_rows": null,
            "height": null,
            "justify_content": null,
            "justify_items": null,
            "left": null,
            "margin": null,
            "max_height": null,
            "max_width": null,
            "min_height": null,
            "min_width": null,
            "object_fit": null,
            "object_position": null,
            "order": null,
            "overflow": null,
            "overflow_x": null,
            "overflow_y": null,
            "padding": null,
            "right": null,
            "top": null,
            "visibility": null,
            "width": null
          }
        },
        "30f74cf524194aaf8ce02da8556ee1db": {
          "model_module": "@jupyter-widgets/controls",
          "model_name": "DescriptionStyleModel",
          "model_module_version": "1.5.0",
          "state": {
            "_model_module": "@jupyter-widgets/controls",
            "_model_module_version": "1.5.0",
            "_model_name": "DescriptionStyleModel",
            "_view_count": null,
            "_view_module": "@jupyter-widgets/base",
            "_view_module_version": "1.2.0",
            "_view_name": "StyleView",
            "description_width": ""
          }
        },
        "e3d1355ecb0a495e8f4a8beac33b55ae": {
          "model_module": "@jupyter-widgets/controls",
          "model_name": "HBoxModel",
          "model_module_version": "1.5.0",
          "state": {
            "_dom_classes": [],
            "_model_module": "@jupyter-widgets/controls",
            "_model_module_version": "1.5.0",
            "_model_name": "HBoxModel",
            "_view_count": null,
            "_view_module": "@jupyter-widgets/controls",
            "_view_module_version": "1.5.0",
            "_view_name": "HBoxView",
            "box_style": "",
            "children": [
              "IPY_MODEL_6c377d51a34e498c9b91737fce15ab62",
              "IPY_MODEL_df7b900e512346bcb5b222bee1213cb7",
              "IPY_MODEL_b2f4c358ebb94fa4b47dd2b7da2f7452"
            ],
            "layout": "IPY_MODEL_3e8fe4750d884d3e9e638cb19e7a3eb9"
          }
        },
        "6c377d51a34e498c9b91737fce15ab62": {
          "model_module": "@jupyter-widgets/controls",
          "model_name": "HTMLModel",
          "model_module_version": "1.5.0",
          "state": {
            "_dom_classes": [],
            "_model_module": "@jupyter-widgets/controls",
            "_model_module_version": "1.5.0",
            "_model_name": "HTMLModel",
            "_view_count": null,
            "_view_module": "@jupyter-widgets/controls",
            "_view_module_version": "1.5.0",
            "_view_name": "HTMLView",
            "description": "",
            "description_tooltip": null,
            "layout": "IPY_MODEL_85deb05d4c934304975444d825adfa95",
            "placeholder": "​",
            "style": "IPY_MODEL_1c557b51e8104934bdac5047cb2f126f",
            "value": "100%"
          }
        },
        "df7b900e512346bcb5b222bee1213cb7": {
          "model_module": "@jupyter-widgets/controls",
          "model_name": "FloatProgressModel",
          "model_module_version": "1.5.0",
          "state": {
            "_dom_classes": [],
            "_model_module": "@jupyter-widgets/controls",
            "_model_module_version": "1.5.0",
            "_model_name": "FloatProgressModel",
            "_view_count": null,
            "_view_module": "@jupyter-widgets/controls",
            "_view_module_version": "1.5.0",
            "_view_name": "ProgressView",
            "bar_style": "success",
            "description": "",
            "description_tooltip": null,
            "layout": "IPY_MODEL_9ec2b78eacf44147b1a2605c0635e853",
            "max": 244408911,
            "min": 0,
            "orientation": "horizontal",
            "style": "IPY_MODEL_35e54c655ba541be801ed3ec0b449a78",
            "value": 244408911
          }
        },
        "b2f4c358ebb94fa4b47dd2b7da2f7452": {
          "model_module": "@jupyter-widgets/controls",
          "model_name": "HTMLModel",
          "model_module_version": "1.5.0",
          "state": {
            "_dom_classes": [],
            "_model_module": "@jupyter-widgets/controls",
            "_model_module_version": "1.5.0",
            "_model_name": "HTMLModel",
            "_view_count": null,
            "_view_module": "@jupyter-widgets/controls",
            "_view_module_version": "1.5.0",
            "_view_name": "HTMLView",
            "description": "",
            "description_tooltip": null,
            "layout": "IPY_MODEL_36f07840998845b08b958a01604d1de3",
            "placeholder": "​",
            "style": "IPY_MODEL_436bcec8391147058ae8a34d101e360a",
            "value": " 233M/233M [00:01&lt;00:00, 214MB/s]"
          }
        },
        "3e8fe4750d884d3e9e638cb19e7a3eb9": {
          "model_module": "@jupyter-widgets/base",
          "model_name": "LayoutModel",
          "model_module_version": "1.2.0",
          "state": {
            "_model_module": "@jupyter-widgets/base",
            "_model_module_version": "1.2.0",
            "_model_name": "LayoutModel",
            "_view_count": null,
            "_view_module": "@jupyter-widgets/base",
            "_view_module_version": "1.2.0",
            "_view_name": "LayoutView",
            "align_content": null,
            "align_items": null,
            "align_self": null,
            "border": null,
            "bottom": null,
            "display": null,
            "flex": null,
            "flex_flow": null,
            "grid_area": null,
            "grid_auto_columns": null,
            "grid_auto_flow": null,
            "grid_auto_rows": null,
            "grid_column": null,
            "grid_gap": null,
            "grid_row": null,
            "grid_template_areas": null,
            "grid_template_columns": null,
            "grid_template_rows": null,
            "height": null,
            "justify_content": null,
            "justify_items": null,
            "left": null,
            "margin": null,
            "max_height": null,
            "max_width": null,
            "min_height": null,
            "min_width": null,
            "object_fit": null,
            "object_position": null,
            "order": null,
            "overflow": null,
            "overflow_x": null,
            "overflow_y": null,
            "padding": null,
            "right": null,
            "top": null,
            "visibility": null,
            "width": null
          }
        },
        "85deb05d4c934304975444d825adfa95": {
          "model_module": "@jupyter-widgets/base",
          "model_name": "LayoutModel",
          "model_module_version": "1.2.0",
          "state": {
            "_model_module": "@jupyter-widgets/base",
            "_model_module_version": "1.2.0",
            "_model_name": "LayoutModel",
            "_view_count": null,
            "_view_module": "@jupyter-widgets/base",
            "_view_module_version": "1.2.0",
            "_view_name": "LayoutView",
            "align_content": null,
            "align_items": null,
            "align_self": null,
            "border": null,
            "bottom": null,
            "display": null,
            "flex": null,
            "flex_flow": null,
            "grid_area": null,
            "grid_auto_columns": null,
            "grid_auto_flow": null,
            "grid_auto_rows": null,
            "grid_column": null,
            "grid_gap": null,
            "grid_row": null,
            "grid_template_areas": null,
            "grid_template_columns": null,
            "grid_template_rows": null,
            "height": null,
            "justify_content": null,
            "justify_items": null,
            "left": null,
            "margin": null,
            "max_height": null,
            "max_width": null,
            "min_height": null,
            "min_width": null,
            "object_fit": null,
            "object_position": null,
            "order": null,
            "overflow": null,
            "overflow_x": null,
            "overflow_y": null,
            "padding": null,
            "right": null,
            "top": null,
            "visibility": null,
            "width": null
          }
        },
        "1c557b51e8104934bdac5047cb2f126f": {
          "model_module": "@jupyter-widgets/controls",
          "model_name": "DescriptionStyleModel",
          "model_module_version": "1.5.0",
          "state": {
            "_model_module": "@jupyter-widgets/controls",
            "_model_module_version": "1.5.0",
            "_model_name": "DescriptionStyleModel",
            "_view_count": null,
            "_view_module": "@jupyter-widgets/base",
            "_view_module_version": "1.2.0",
            "_view_name": "StyleView",
            "description_width": ""
          }
        },
        "9ec2b78eacf44147b1a2605c0635e853": {
          "model_module": "@jupyter-widgets/base",
          "model_name": "LayoutModel",
          "model_module_version": "1.2.0",
          "state": {
            "_model_module": "@jupyter-widgets/base",
            "_model_module_version": "1.2.0",
            "_model_name": "LayoutModel",
            "_view_count": null,
            "_view_module": "@jupyter-widgets/base",
            "_view_module_version": "1.2.0",
            "_view_name": "LayoutView",
            "align_content": null,
            "align_items": null,
            "align_self": null,
            "border": null,
            "bottom": null,
            "display": null,
            "flex": null,
            "flex_flow": null,
            "grid_area": null,
            "grid_auto_columns": null,
            "grid_auto_flow": null,
            "grid_auto_rows": null,
            "grid_column": null,
            "grid_gap": null,
            "grid_row": null,
            "grid_template_areas": null,
            "grid_template_columns": null,
            "grid_template_rows": null,
            "height": null,
            "justify_content": null,
            "justify_items": null,
            "left": null,
            "margin": null,
            "max_height": null,
            "max_width": null,
            "min_height": null,
            "min_width": null,
            "object_fit": null,
            "object_position": null,
            "order": null,
            "overflow": null,
            "overflow_x": null,
            "overflow_y": null,
            "padding": null,
            "right": null,
            "top": null,
            "visibility": null,
            "width": null
          }
        },
        "35e54c655ba541be801ed3ec0b449a78": {
          "model_module": "@jupyter-widgets/controls",
          "model_name": "ProgressStyleModel",
          "model_module_version": "1.5.0",
          "state": {
            "_model_module": "@jupyter-widgets/controls",
            "_model_module_version": "1.5.0",
            "_model_name": "ProgressStyleModel",
            "_view_count": null,
            "_view_module": "@jupyter-widgets/base",
            "_view_module_version": "1.2.0",
            "_view_name": "StyleView",
            "bar_color": null,
            "description_width": ""
          }
        },
        "36f07840998845b08b958a01604d1de3": {
          "model_module": "@jupyter-widgets/base",
          "model_name": "LayoutModel",
          "model_module_version": "1.2.0",
          "state": {
            "_model_module": "@jupyter-widgets/base",
            "_model_module_version": "1.2.0",
            "_model_name": "LayoutModel",
            "_view_count": null,
            "_view_module": "@jupyter-widgets/base",
            "_view_module_version": "1.2.0",
            "_view_name": "LayoutView",
            "align_content": null,
            "align_items": null,
            "align_self": null,
            "border": null,
            "bottom": null,
            "display": null,
            "flex": null,
            "flex_flow": null,
            "grid_area": null,
            "grid_auto_columns": null,
            "grid_auto_flow": null,
            "grid_auto_rows": null,
            "grid_column": null,
            "grid_gap": null,
            "grid_row": null,
            "grid_template_areas": null,
            "grid_template_columns": null,
            "grid_template_rows": null,
            "height": null,
            "justify_content": null,
            "justify_items": null,
            "left": null,
            "margin": null,
            "max_height": null,
            "max_width": null,
            "min_height": null,
            "min_width": null,
            "object_fit": null,
            "object_position": null,
            "order": null,
            "overflow": null,
            "overflow_x": null,
            "overflow_y": null,
            "padding": null,
            "right": null,
            "top": null,
            "visibility": null,
            "width": null
          }
        },
        "436bcec8391147058ae8a34d101e360a": {
          "model_module": "@jupyter-widgets/controls",
          "model_name": "DescriptionStyleModel",
          "model_module_version": "1.5.0",
          "state": {
            "_model_module": "@jupyter-widgets/controls",
            "_model_module_version": "1.5.0",
            "_model_name": "DescriptionStyleModel",
            "_view_count": null,
            "_view_module": "@jupyter-widgets/base",
            "_view_module_version": "1.2.0",
            "_view_name": "StyleView",
            "description_width": ""
          }
        }
      }
    }
  },
  "cells": [
    {
      "cell_type": "code",
      "execution_count": null,
      "metadata": {
        "id": "OrlGODTVpSIf"
      },
      "outputs": [],
      "source": [
        "import torch\n",
        "import os\n",
        "import torchvision\n",
        "import torch.nn as nn\n",
        "import torchvision.transforms as transforms\n",
        "import torchvision.models as models\n",
        "import torchvision.datasets as dsets\n",
        "from torch.utils.data import DataLoader\n",
        "import torch.nn.functional as F\n",
        "import statistics\n",
        "import numpy as np\n",
        "import random\n",
        "import math\n",
        "import matplotlib.pyplot as plt\n",
        "import seaborn as sns\n",
        "import torch.optim as optim\n",
        "from scipy.optimize import fmin_l_bfgs_b"
      ]
    },
    {
      "cell_type": "markdown",
      "source": [
        "#Model"
      ],
      "metadata": {
        "id": "dwqiH5YAstK-"
      }
    },
    {
      "cell_type": "code",
      "source": [
        "transform = transforms.Compose([\n",
        "    transforms.Resize((96, 96)),\n",
        "    transforms.ToTensor(),\n",
        "    transforms.Normalize(mean=[0.5, 0.5, 0.5], std=[0.5, 0.5, 0.5])\n",
        "])"
      ],
      "metadata": {
        "id": "ZRqqoH4HuVpq"
      },
      "execution_count": null,
      "outputs": []
    },
    {
      "cell_type": "code",
      "source": [
        "stl10_train = dsets.STL10(root='./data', split='train', download=True, transform=transforms.ToTensor())\n",
        "stl10_test = dsets.STL10(root='./data', split='test', download=True, transform=transforms.ToTensor())"
      ],
      "metadata": {
        "colab": {
          "base_uri": "https://localhost:8080/",
          "height": 101,
          "referenced_widgets": [
            "63be6c01e59549a1b0373f51364c811f",
            "5044443480924572b1e5af7abcffc397",
            "5a1707f2cc684a539f7dc920bc74875f",
            "c2e9cffc584b4ac5afea3cb00d6a8064",
            "d3867bf38f9a48128cb1fbae107beb65",
            "c9b9f687b39d46ff863e620a6649f977",
            "4fc7335053b64e44b5bb92edf3ac2482",
            "369675a59fa144729ad1f45142701a06",
            "3364680179ff499d8d128e564cc6ee44",
            "64848de21c0e4fd995776d54f21e0b8c",
            "30f74cf524194aaf8ce02da8556ee1db"
          ]
        },
        "id": "t6nNoUCIuZ6K",
        "outputId": "f8af8f17-f20a-42b0-8e7c-4a7f96524ecc"
      },
      "execution_count": null,
      "outputs": [
        {
          "output_type": "stream",
          "name": "stdout",
          "text": [
            "Downloading http://ai.stanford.edu/~acoates/stl10/stl10_binary.tar.gz to ./data/stl10_binary.tar.gz\n"
          ]
        },
        {
          "output_type": "display_data",
          "data": {
            "text/plain": [
              "  0%|          | 0/2640397119 [00:00<?, ?it/s]"
            ],
            "application/vnd.jupyter.widget-view+json": {
              "version_major": 2,
              "version_minor": 0,
              "model_id": "63be6c01e59549a1b0373f51364c811f"
            }
          },
          "metadata": {}
        },
        {
          "output_type": "stream",
          "name": "stdout",
          "text": [
            "Extracting ./data/stl10_binary.tar.gz to ./data\n",
            "Files already downloaded and verified\n"
          ]
        }
      ]
    },
    {
      "cell_type": "code",
      "source": [
        "trainloader = DataLoader(stl10_train, batch_size=32, shuffle=True, num_workers=2)\n",
        "testloader = DataLoader(stl10_test, batch_size=1, shuffle=True, num_workers=2)"
      ],
      "metadata": {
        "id": "m1NtGx_VuuJh"
      },
      "execution_count": null,
      "outputs": []
    },
    {
      "cell_type": "code",
      "source": [
        "# # Define the AlexNet model\n",
        "# class AlexNet(nn.Module):\n",
        "#     def __init__(self, num_classes=10, dropout_prob=0.2):\n",
        "#         super(AlexNet, self).__init__()\n",
        "#         self.features = nn.Sequential(\n",
        "#             nn.Conv2d(3, 96, kernel_size=11, stride=4, padding=2),\n",
        "#             nn.ReLU(inplace=True),\n",
        "#             nn.MaxPool2d(kernel_size=3, stride=2),\n",
        "#             nn.Conv2d(96, 256, kernel_size=5, stride=1, padding=2),\n",
        "#             nn.ReLU(inplace=True),\n",
        "#             nn.MaxPool2d(kernel_size=3, stride=2),\n",
        "#             nn.Conv2d(256, 384, kernel_size=3, stride=1, padding=1),\n",
        "#             nn.ReLU(inplace=True),\n",
        "#             nn.Conv2d(384, 384, kernel_size=3, stride=1, padding=1),\n",
        "#             nn.ReLU(inplace=True),\n",
        "#             nn.Conv2d(384, 256, kernel_size=3, stride=1, padding=1),\n",
        "#             nn.ReLU(inplace=True),\n",
        "#             nn.MaxPool2d(kernel_size=3, stride=2),\n",
        "#         )\n",
        "#         self.avgpool = nn.AdaptiveAvgPool2d((6, 6))\n",
        "#         self.classifier = nn.Sequential(\n",
        "#             nn.Dropout(p=dropout_prob),\n",
        "#             nn.Linear(256 * 6 * 6, 4096),\n",
        "#             nn.ReLU(inplace=True),\n",
        "#             nn.Dropout(p=dropout_prob),\n",
        "#             nn.Linear(4096, 4096),\n",
        "#             nn.ReLU(inplace=True),\n",
        "#             nn.Linear(4096, num_classes),\n",
        "#         )\n",
        "\n",
        "#     def forward(self, x):\n",
        "#         x = self.features(x)\n",
        "#         x = self.avgpool(x)\n",
        "#         x = torch.flatten(x, 1)\n",
        "#         x = self.classifier(x)\n",
        "#         return x"
      ],
      "metadata": {
        "id": "1MFcR8j94W6G"
      },
      "execution_count": null,
      "outputs": []
    },
    {
      "cell_type": "code",
      "source": [
        "# # Instantiate the AlexNet model\n",
        "# net = AlexNet()\n",
        "\n",
        "# # Define the loss function and optimizer\n",
        "# criterion = nn.CrossEntropyLoss()\n",
        "# optimizer = optim.SGD(net.parameters(), lr=0.001, momentum=0.9)"
      ],
      "metadata": {
        "id": "FEUG9rcr9HYp"
      },
      "execution_count": null,
      "outputs": []
    },
    {
      "cell_type": "code",
      "source": [
        "# Load the pre-trained AlexNet model\n",
        "alexnet = models.alexnet(pretrained=True)\n",
        "\n",
        "\n",
        "# Replace the last fully connected layer with a new layer for STL-10 dataset\n",
        "num_features = alexnet.classifier[-1].in_features\n",
        "alexnet.classifier[-1] = nn.Linear(num_features, 10)\n",
        "\n",
        "# Define the loss function and optimizer\n",
        "criterion = nn.CrossEntropyLoss()\n",
        "optimizer = optim.SGD(alexnet.parameters(), lr=0.001, momentum=0.9)"
      ],
      "metadata": {
        "id": "Jdl-hnd-CfSN",
        "colab": {
          "base_uri": "https://localhost:8080/",
          "height": 156,
          "referenced_widgets": [
            "e3d1355ecb0a495e8f4a8beac33b55ae",
            "6c377d51a34e498c9b91737fce15ab62",
            "df7b900e512346bcb5b222bee1213cb7",
            "b2f4c358ebb94fa4b47dd2b7da2f7452",
            "3e8fe4750d884d3e9e638cb19e7a3eb9",
            "85deb05d4c934304975444d825adfa95",
            "1c557b51e8104934bdac5047cb2f126f",
            "9ec2b78eacf44147b1a2605c0635e853",
            "35e54c655ba541be801ed3ec0b449a78",
            "36f07840998845b08b958a01604d1de3",
            "436bcec8391147058ae8a34d101e360a"
          ]
        },
        "outputId": "deb882d9-3f7e-4a8b-d5ba-7bcf9e166663"
      },
      "execution_count": null,
      "outputs": [
        {
          "output_type": "stream",
          "name": "stderr",
          "text": [
            "/usr/local/lib/python3.9/dist-packages/torchvision/models/_utils.py:208: UserWarning: The parameter 'pretrained' is deprecated since 0.13 and may be removed in the future, please use 'weights' instead.\n",
            "  warnings.warn(\n",
            "/usr/local/lib/python3.9/dist-packages/torchvision/models/_utils.py:223: UserWarning: Arguments other than a weight enum or `None` for 'weights' are deprecated since 0.13 and may be removed in the future. The current behavior is equivalent to passing `weights=AlexNet_Weights.IMAGENET1K_V1`. You can also use `weights=AlexNet_Weights.DEFAULT` to get the most up-to-date weights.\n",
            "  warnings.warn(msg)\n",
            "Downloading: \"https://download.pytorch.org/models/alexnet-owt-7be5be79.pth\" to /root/.cache/torch/hub/checkpoints/alexnet-owt-7be5be79.pth\n"
          ]
        },
        {
          "output_type": "display_data",
          "data": {
            "text/plain": [
              "  0%|          | 0.00/233M [00:00<?, ?B/s]"
            ],
            "application/vnd.jupyter.widget-view+json": {
              "version_major": 2,
              "version_minor": 0,
              "model_id": "e3d1355ecb0a495e8f4a8beac33b55ae"
            }
          },
          "metadata": {}
        }
      ]
    },
    {
      "cell_type": "code",
      "source": [
        "trainloader"
      ],
      "metadata": {
        "colab": {
          "base_uri": "https://localhost:8080/"
        },
        "id": "dNXcrPCmaFWw",
        "outputId": "33353f78-dae0-45a6-8601-df63b3eed058"
      },
      "execution_count": null,
      "outputs": [
        {
          "output_type": "execute_result",
          "data": {
            "text/plain": [
              "<torch.utils.data.dataloader.DataLoader at 0x7f4b8c345d90>"
            ]
          },
          "metadata": {},
          "execution_count": 8
        }
      ]
    },
    {
      "cell_type": "code",
      "source": [
        "# Train the model\n",
        "for epoch in range(5):  # loop over the dataset multiple times\n",
        "    running_loss = 0.0\n",
        "    for i, data in enumerate(trainloader, 0):\n",
        "        # get the inputs; data is a list of [inputs, labels]\n",
        "        inputs, labels = data\n",
        "        alexnet.train()\n",
        "        # zero the parameter gradients\n",
        "        optimizer.zero_grad()\n",
        "        # forward + backward + optimize\n",
        "        outputs = alexnet(inputs)\n",
        "        loss = criterion(outputs, labels)\n",
        "        loss.backward()\n",
        "        optimizer.step()\n",
        "        # print statistics\n",
        "        running_loss += loss.item()"
      ],
      "metadata": {
        "id": "bZ3CEYIA95Oa"
      },
      "execution_count": null,
      "outputs": []
    },
    {
      "cell_type": "code",
      "source": [
        "# Use the model for inference on the test data\n",
        "correct = 0\n",
        "total = 0\n",
        "cnt=0\n",
        "with torch.no_grad():\n",
        "    for data in testloader:\n",
        "        if cnt>500:\n",
        "          break\n",
        "        cnt+=1\n",
        "        images, labels = data\n",
        "        alexnet.train()\n",
        "        outputs = alexnet(images)\n",
        "        _, predicted = torch.max(outputs.data, 1)\n",
        "        total += labels.size(0)\n",
        "        correct += (predicted == labels).sum().item()\n",
        "\n",
        "print('Accuracy of the pre-trained AlexNet model on the test images: %d %%' % (100 * correct / total))"
      ],
      "metadata": {
        "id": "Z5mrPjrT-of5",
        "colab": {
          "base_uri": "https://localhost:8080/"
        },
        "outputId": "8b97f313-3249-40c6-a717-536a3bd8a41c"
      },
      "execution_count": null,
      "outputs": [
        {
          "output_type": "stream",
          "name": "stdout",
          "text": [
            "Accuracy of the pre-trained AlexNet model on the test images: 76 %\n"
          ]
        }
      ]
    },
    {
      "cell_type": "markdown",
      "source": [
        "# Uncertanity"
      ],
      "metadata": {
        "id": "vkpCc2T0HhNF"
      }
    },
    {
      "cell_type": "code",
      "source": [
        "\n",
        "def uncertainty(model,data,labels,times=50):\n",
        "  l = []\n",
        "  pred = []\n",
        "  img_ind = []\n",
        "  f = 0\n",
        "  ff = 0\n",
        "  acc = torch.zeros(1, 10)\n",
        "  t = torch.ones(1, 10)\n",
        "  p = torch.ones(1, 10)\n",
        "  t = t * times\n",
        "  data=data.reshape(1,3,96,96)\n",
        "  labels = int(labels.item())\n",
        "  for i in range(times):\n",
        "    model.train()\n",
        "    output = model(data)\n",
        "    pred_y = torch.max(output, 1)[1].data.numpy().squeeze()\n",
        "    pred.append(pred_y)\n",
        "    l.append(output)\n",
        "    \n",
        "    m = nn.Softmax(dim=1);\n",
        "    l[i] = m(l[i])\n",
        "    acc = acc + l[i]\n",
        "    if pred_y!=labels:\n",
        "        f = 1\n",
        "        ff = pred_y\n",
        "  \n",
        "  acc /= times\n",
        "  p[0, labels] = 0\n",
        "  acc = p - acc\n",
        "  acc[0, labels] = (acc[0, labels])*(-1)\n",
        "\n",
        "  return l, pred, acc, f, ff"
      ],
      "metadata": {
        "id": "6Ph3T7FtB7Al"
      },
      "execution_count": null,
      "outputs": []
    },
    {
      "cell_type": "code",
      "source": [
        "def normalize(ans):\n",
        "    for i in range(len(ans)):\n",
        "        with torch.no_grad(): \n",
        "            ans[i] = torch.Tensor.numpy(ans[i])\n",
        "    ans = np.asarray(ans)\n",
        "    ans = np.ones((1,10), float) - np.var(ans,axis=0)\n",
        "    ans *= 100;\n",
        "    return ans"
      ],
      "metadata": {
        "id": "idr-FaAHIAM8"
      },
      "execution_count": null,
      "outputs": []
    },
    {
      "cell_type": "code",
      "source": [
        "ans = []\n",
        "imgs = []\n",
        "pred = []\n",
        "cnt = 0\n",
        "total = 50\n",
        "accuracy = []\n",
        "ind = []\n",
        "act = []\n",
        "indf = []\n",
        "model = alexnet\n",
        "\n",
        "actual = torch.zeros(1, total)\n",
        "for images, labels in testloader:\n",
        "    imgs.append(images)\n",
        "    if cnt >= total: \n",
        "        break\n",
        "    res, pred_y, acc, f, ff = uncertainty(model, images, labels)\n",
        "    res = normalize(res)\n",
        "    pred.append(pred_y)\n",
        "    ans.append(res)\n",
        "    accuracy.append(acc)\n",
        "    actual[0, cnt] = labels\n",
        "    if f:\n",
        "        ind.append(cnt)\n",
        "        indf.append(ff)\n",
        "        act.append(int(labels))\n",
        "    cnt += 1\n",
        "ans = torch.tensor(ans, dtype=torch.float)"
      ],
      "metadata": {
        "id": "xSO7azVlIDE0",
        "colab": {
          "base_uri": "https://localhost:8080/"
        },
        "outputId": "4f8e66c6-ce98-42b1-a42e-dce55fbafaa9"
      },
      "execution_count": null,
      "outputs": [
        {
          "output_type": "stream",
          "name": "stderr",
          "text": [
            "<ipython-input-13-270bf5510931>:28: UserWarning: Creating a tensor from a list of numpy.ndarrays is extremely slow. Please consider converting the list to a single numpy.ndarray with numpy.array() before converting to a tensor. (Triggered internally at ../torch/csrc/utils/tensor_new.cpp:230.)\n",
            "  ans = torch.tensor(ans, dtype=torch.float)\n"
          ]
        }
      ]
    },
    {
      "cell_type": "code",
      "source": [
        "def correlation(ans, accuracy):\n",
        "    corr = torch.zeros(1, ans.size()[0])\n",
        "    for i in range(ans.size()[0]): \n",
        "        tensor1 = accuracy[i]\n",
        "        tensor2 = ans[i]\n",
        "\n",
        "        mean1 = torch.mean(tensor1)\n",
        "        mean2 = torch.mean(tensor2)\n",
        "\n",
        "        tensor1 = tensor1 - mean1\n",
        "        tensor2 = tensor2 - mean2\n",
        "\n",
        "        res = torch.sum(torch.mul(tensor1, tensor2)) / (torch.sqrt(torch.sum(torch.mul(tensor1, tensor1))) * torch.sqrt(torch.sum(torch.mul(tensor2, tensor2))))\n",
        "        if (torch.sqrt(torch.sum(torch.mul(tensor1, tensor1))) * torch.sqrt(torch.sum(torch.mul(tensor2, tensor2)))) == 0: \n",
        "            corr[0,i] = 1\n",
        "        else:\n",
        "            corr[0, i] = res\n",
        "    return corr"
      ],
      "metadata": {
        "id": "y9XYAFRmIyyE"
      },
      "execution_count": null,
      "outputs": []
    },
    {
      "cell_type": "code",
      "source": [
        "def plot(x, y):\n",
        "    figure = plt.figure(figsize=(20, 5))\n",
        "\n",
        "    figure.add_subplot(1, 3, 1)\n",
        "    plt.scatter(x, y)\n",
        "\n",
        "    plt.subplot(1, 3, 2)\n",
        "    sns.set(style=\"whitegrid\")\n",
        "    sns.stripplot(x=x, y=y, jitter=0.2)\n",
        "\n",
        "    #plt.subplot(1, 3, 3)\n",
        "    #sns.kdeplot(x,y, shade = True, cbar=True)\n",
        "\n",
        "\n",
        "    plt.show()"
      ],
      "metadata": {
        "id": "Ldf-VoBLJ9PN"
      },
      "execution_count": null,
      "outputs": []
    },
    {
      "cell_type": "code",
      "source": [
        "x = []\n",
        "y = []\n",
        "\n",
        "for i in range(50):\n",
        "    for j in range(10):\n",
        "        x.append(j)\n",
        "        y.append(float(ans[i][0, j]))\n",
        "\n",
        "plot(x, y)"
      ],
      "metadata": {
        "id": "iY7ru4oUJ_ql",
        "colab": {
          "base_uri": "https://localhost:8080/",
          "height": 320
        },
        "outputId": "321906f8-eaf6-41b4-e457-4aa9c838d78a"
      },
      "execution_count": null,
      "outputs": [
        {
          "output_type": "display_data",
          "data": {
            "text/plain": [
              "<Figure size 1440x360 with 2 Axes>"
            ],
            "image/png": "[encoded data removed]"
          },
          "metadata": {
            "needs_background": "light"
          }
        }
      ]
    },
    {
      "cell_type": "code",
      "source": [
        "x1 = []\n",
        "y1 = []\n",
        "\n",
        "for i in range(50):\n",
        "    for j in range(10):\n",
        "        x1.append(j)\n",
        "        y1.append(float(accuracy[i][0, j]))\n",
        "\n",
        "plot(x1, y1)"
      ],
      "metadata": {
        "id": "X-0ZaVuwKAOd",
        "colab": {
          "base_uri": "https://localhost:8080/",
          "height": 322
        },
        "outputId": "295ab501-53b1-4477-b64e-2646ccbdf64c"
      },
      "execution_count": null,
      "outputs": [
        {
          "output_type": "display_data",
          "data": {
            "text/plain": [
              "<Figure size 1440x360 with 2 Axes>"
            ],
            "image/png": "[encoded data removed]"
          },
          "metadata": {}
        }
      ]
    },
    {
      "cell_type": "code",
      "source": [
        "def relation(j):\n",
        "    a = []\n",
        "    b = []\n",
        "\n",
        "    for i in range(50):\n",
        "        a.append(float(accuracy[i][0, j]))\n",
        "        b.append(float(ans[i][0, j]))\n",
        "    plot(a, b);\n",
        "    return a, b"
      ],
      "metadata": {
        "id": "C7RW2cdhKUzc"
      },
      "execution_count": null,
      "outputs": []
    },
    {
      "cell_type": "code",
      "source": [
        "\n",
        "a, b = relation(4)"
      ],
      "metadata": {
        "id": "Hsw2xYF7KZ9c",
        "colab": {
          "base_uri": "https://localhost:8080/",
          "height": 322
        },
        "outputId": "b6ca8c37-b50c-4f81-c9f4-96775fc48074"
      },
      "execution_count": null,
      "outputs": [
        {
          "output_type": "display_data",
          "data": {
            "text/plain": [
              "<Figure size 1440x360 with 2 Axes>"
            ],
            "image/png": "[encoded data removed]"
          },
          "metadata": {}
        }
      ]
    },
    {
      "cell_type": "code",
      "source": [
        "def plot_image(unc,acc,a,b):\n",
        "    images_index=[]\n",
        "    for i in range(len(a)):\n",
        "        if a[i]<=unc and b[i]<=acc:\n",
        "            images_index.append(i)\n",
        "    return images_index"
      ],
      "metadata": {
        "id": "xMqHIYiLKc5F"
      },
      "execution_count": null,
      "outputs": []
    },
    {
      "cell_type": "code",
      "source": [
        "plot_image(0.2, 100, a, b)"
      ],
      "metadata": {
        "id": "-fwq46J5Kxw-",
        "colab": {
          "base_uri": "https://localhost:8080/"
        },
        "outputId": "d7b5cf6d-ad13-4231-fde4-499f16cde5fd"
      },
      "execution_count": null,
      "outputs": [
        {
          "output_type": "execute_result",
          "data": {
            "text/plain": [
              "[15]"
            ]
          },
          "metadata": {},
          "execution_count": 21
        }
      ]
    },
    {
      "cell_type": "markdown",
      "source": [
        "#Adversarial Attack"
      ],
      "metadata": {
        "id": "7wIEKCZK05nW"
      }
    },
    {
      "cell_type": "code",
      "source": [
        "img,lbl=stl10_test[23]\n",
        "img=img.numpy()\n",
        "img = np.transpose(img,(1,2,0))\n",
        "plt.imshow(img)\n",
        "plt.axis('off')\n",
        "plt.show()"
      ],
      "metadata": {
        "id": "_Mr5r45MNCHY",
        "colab": {
          "base_uri": "https://localhost:8080/",
          "height": 248
        },
        "outputId": "8c14c8ec-29d4-4437-a780-c7acc1e37db6"
      },
      "execution_count": null,
      "outputs": [
        {
          "output_type": "display_data",
          "data": {
            "text/plain": [
              "<Figure size 432x288 with 1 Axes>"
            ],
            "image/png": "[encoded data removed]"
          },
          "metadata": {}
        }
      ]
    },
    {
      "cell_type": "code",
      "source": [
        "img = np.transpose(img,(2,1,0))\n",
        "img.shape"
      ],
      "metadata": {
        "colab": {
          "base_uri": "https://localhost:8080/"
        },
        "id": "V8FE3uWojlw-",
        "outputId": "682cc6bf-6339-46b6-bc78-f69a73cd210c"
      },
      "execution_count": null,
      "outputs": [
        {
          "output_type": "execute_result",
          "data": {
            "text/plain": [
              "(3, 96, 96)"
            ]
          },
          "metadata": {},
          "execution_count": 23
        }
      ]
    },
    {
      "cell_type": "code",
      "source": [
        "# def lbfgs_attack(model, loss_fn, x, y, eps=0.1, max_iter=20):\n",
        "#     # Set the model in evaluation mode\n",
        "#     model.eval()\n",
        "    \n",
        "#     # Create a copy of the input tensor as a starting point for the attack\n",
        "#     x_adv = x.detach().clone().requires_grad_(True)\n",
        "\n",
        "#     # Define the L-BFGS optimizer\n",
        "#     optimizer = optim.LBFGS([x_adv], max_iter=max_iter)\n",
        "\n",
        "#     # Define a closure function to compute the loss and gradient\n",
        "#     def closure():\n",
        "#         optimizer.zero_grad()\n",
        "#         tmp= model(x_adv)\n",
        "#         loss = loss_fn(tmp, y)\n",
        "#         loss.backward()\n",
        "#         return loss\n",
        "\n",
        "#     # Run the L-BFGS optimizer to generate the adversarial example\n",
        "#     for i in range(max_iter):\n",
        "#         # Compute the loss and gradient\n",
        "#         loss = optimizer.step(closure)\n",
        "\n",
        "#         # Clip the adversarial example to ensure it stays within the epsilon ball around the original example\n",
        "#         delta = torch.clamp(x_adv - x, min=-eps, max=eps)\n",
        "#         x_adv.data.copy_(torch.clamp(x + delta, min=0, max=1).data)\n",
        "\n",
        "#     return x_adv"
      ],
      "metadata": {
        "id": "cHnGE54gSYvc"
      },
      "execution_count": null,
      "outputs": []
    },
    {
      "cell_type": "code",
      "source": [
        "def lbfgs_attack(model, images, labels, epsilon=0.1, num_steps=10):\n",
        "    images = images.clone().detach().requires_grad_(True)\n",
        "    optimizer = optim.LBFGS([images])\n",
        "    loss_fn = F.cross_entropy\n",
        "    for i in range(num_steps):\n",
        "        def closure():\n",
        "            optimizer.zero_grad()\n",
        "            outputs = model(images)\n",
        "            loss = loss_fn(outputs, labels)\n",
        "            loss.backward()\n",
        "            return loss\n",
        "\n",
        "        optimizer.step(closure)\n",
        "        images.data = torch.clamp(images.data, 0, 1)\n",
        "\n",
        "    adv_images = images.detach()\n",
        "    return adv_images"
      ],
      "metadata": {
        "id": "ujvSbpbUOHzB"
      },
      "execution_count": null,
      "outputs": []
    },
    {
      "cell_type": "code",
      "source": [
        "lbfgs_attack(alexnet,torch.tensor(img).unsqueeze(dim=0),torch.tensor(lbl).unsqueeze(dim=0))"
      ],
      "metadata": {
        "colab": {
          "base_uri": "https://localhost:8080/",
          "height": 328
        },
        "id": "9487ikRHBlFi",
        "outputId": "85113c85-ad6c-4c3b-9608-b9b2a253629b"
      },
      "execution_count": null,
      "outputs": [
        {
          "output_type": "stream",
          "name": "stdout",
          "text": [
            "torch.Size([1, 3, 96, 96])\n"
          ]
        },
        {
          "output_type": "error",
          "ename": "RuntimeError",
          "evalue": "ignored",
          "traceback": [
            "\u001b[0;31m---------------------------------------------------------------------------\u001b[0m",
            "\u001b[0;31mRuntimeError\u001b[0m                              Traceback (most recent call last)",
            "\u001b[0;32m<ipython-input-37-386cc4ca895f>\u001b[0m in \u001b[0;36m<module>\u001b[0;34m\u001b[0m\n\u001b[0;32m----> 1\u001b[0;31m \u001b[0mlbfgs_attack\u001b[0m\u001b[0;34m(\u001b[0m\u001b[0malexnet\u001b[0m\u001b[0;34m,\u001b[0m\u001b[0mtorch\u001b[0m\u001b[0;34m.\u001b[0m\u001b[0mtensor\u001b[0m\u001b[0;34m(\u001b[0m\u001b[0mimg\u001b[0m\u001b[0;34m)\u001b[0m\u001b[0;34m.\u001b[0m\u001b[0munsqueeze\u001b[0m\u001b[0;34m(\u001b[0m\u001b[0mdim\u001b[0m\u001b[0;34m=\u001b[0m\u001b[0;36m0\u001b[0m\u001b[0;34m)\u001b[0m\u001b[0;34m,\u001b[0m\u001b[0mtorch\u001b[0m\u001b[0;34m.\u001b[0m\u001b[0mtensor\u001b[0m\u001b[0;34m(\u001b[0m\u001b[0mlbl\u001b[0m\u001b[0;34m)\u001b[0m\u001b[0;34m.\u001b[0m\u001b[0munsqueeze\u001b[0m\u001b[0;34m(\u001b[0m\u001b[0mdim\u001b[0m\u001b[0;34m=\u001b[0m\u001b[0;36m0\u001b[0m\u001b[0;34m)\u001b[0m\u001b[0;34m)\u001b[0m\u001b[0;34m\u001b[0m\u001b[0;34m\u001b[0m\u001b[0m\n\u001b[0m",
            "\u001b[0;32m<ipython-input-35-67e643015d45>\u001b[0m in \u001b[0;36mlbfgs_attack\u001b[0;34m(model, images, labels, epsilon, num_steps)\u001b[0m\n\u001b[1;32m     12\u001b[0m             \u001b[0;32mreturn\u001b[0m \u001b[0mloss\u001b[0m\u001b[0;34m\u001b[0m\u001b[0;34m\u001b[0m\u001b[0m\n\u001b[1;32m     13\u001b[0m \u001b[0;34m\u001b[0m\u001b[0m\n\u001b[0;32m---> 14\u001b[0;31m         \u001b[0moptimizer\u001b[0m\u001b[0;34m.\u001b[0m\u001b[0mstep\u001b[0m\u001b[0;34m(\u001b[0m\u001b[0mclosure\u001b[0m\u001b[0;34m)\u001b[0m\u001b[0;34m\u001b[0m\u001b[0;34m\u001b[0m\u001b[0m\n\u001b[0m\u001b[1;32m     15\u001b[0m         \u001b[0mimages\u001b[0m\u001b[0;34m.\u001b[0m\u001b[0mdata\u001b[0m \u001b[0;34m=\u001b[0m \u001b[0mtorch\u001b[0m\u001b[0;34m.\u001b[0m\u001b[0mclamp\u001b[0m\u001b[0;34m(\u001b[0m\u001b[0mimages\u001b[0m\u001b[0;34m.\u001b[0m\u001b[0mdata\u001b[0m\u001b[0;34m,\u001b[0m \u001b[0;36m0\u001b[0m\u001b[0;34m,\u001b[0m \u001b[0;36m1\u001b[0m\u001b[0;34m)\u001b[0m\u001b[0;34m\u001b[0m\u001b[0;34m\u001b[0m\u001b[0m\n\u001b[1;32m     16\u001b[0m \u001b[0;34m\u001b[0m\u001b[0m\n",
            "\u001b[0;32m/usr/local/lib/python3.9/dist-packages/torch/optim/optimizer.py\u001b[0m in \u001b[0;36mwrapper\u001b[0;34m(*args, **kwargs)\u001b[0m\n\u001b[1;32m    138\u001b[0m                 \u001b[0mprofile_name\u001b[0m \u001b[0;34m=\u001b[0m \u001b[0;34m\"Optimizer.step#{}.step\"\u001b[0m\u001b[0;34m.\u001b[0m\u001b[0mformat\u001b[0m\u001b[0;34m(\u001b[0m\u001b[0mobj\u001b[0m\u001b[0;34m.\u001b[0m\u001b[0m__class__\u001b[0m\u001b[0;34m.\u001b[0m\u001b[0m__name__\u001b[0m\u001b[0;34m)\u001b[0m\u001b[0;34m\u001b[0m\u001b[0;34m\u001b[0m\u001b[0m\n\u001b[1;32m    139\u001b[0m                 \u001b[0;32mwith\u001b[0m \u001b[0mtorch\u001b[0m\u001b[0;34m.\u001b[0m\u001b[0mautograd\u001b[0m\u001b[0;34m.\u001b[0m\u001b[0mprofiler\u001b[0m\u001b[0;34m.\u001b[0m\u001b[0mrecord_function\u001b[0m\u001b[0;34m(\u001b[0m\u001b[0mprofile_name\u001b[0m\u001b[0;34m)\u001b[0m\u001b[0;34m:\u001b[0m\u001b[0;34m\u001b[0m\u001b[0;34m\u001b[0m\u001b[0m\n\u001b[0;32m--> 140\u001b[0;31m                     \u001b[0mout\u001b[0m \u001b[0;34m=\u001b[0m \u001b[0mfunc\u001b[0m\u001b[0;34m(\u001b[0m\u001b[0;34m*\u001b[0m\u001b[0margs\u001b[0m\u001b[0;34m,\u001b[0m \u001b[0;34m**\u001b[0m\u001b[0mkwargs\u001b[0m\u001b[0;34m)\u001b[0m\u001b[0;34m\u001b[0m\u001b[0;34m\u001b[0m\u001b[0m\n\u001b[0m\u001b[1;32m    141\u001b[0m                     \u001b[0mobj\u001b[0m\u001b[0;34m.\u001b[0m\u001b[0m_optimizer_step_code\u001b[0m\u001b[0;34m(\u001b[0m\u001b[0;34m)\u001b[0m\u001b[0;34m\u001b[0m\u001b[0;34m\u001b[0m\u001b[0m\n\u001b[1;32m    142\u001b[0m                     \u001b[0;32mreturn\u001b[0m \u001b[0mout\u001b[0m\u001b[0;34m\u001b[0m\u001b[0;34m\u001b[0m\u001b[0m\n",
            "\u001b[0;32m/usr/local/lib/python3.9/dist-packages/torch/autograd/grad_mode.py\u001b[0m in \u001b[0;36mdecorate_context\u001b[0;34m(*args, **kwargs)\u001b[0m\n\u001b[1;32m     25\u001b[0m         \u001b[0;32mdef\u001b[0m \u001b[0mdecorate_context\u001b[0m\u001b[0;34m(\u001b[0m\u001b[0;34m*\u001b[0m\u001b[0margs\u001b[0m\u001b[0;34m,\u001b[0m \u001b[0;34m**\u001b[0m\u001b[0mkwargs\u001b[0m\u001b[0;34m)\u001b[0m\u001b[0;34m:\u001b[0m\u001b[0;34m\u001b[0m\u001b[0;34m\u001b[0m\u001b[0m\n\u001b[1;32m     26\u001b[0m             \u001b[0;32mwith\u001b[0m \u001b[0mself\u001b[0m\u001b[0;34m.\u001b[0m\u001b[0mclone\u001b[0m\u001b[0;34m(\u001b[0m\u001b[0;34m)\u001b[0m\u001b[0;34m:\u001b[0m\u001b[0;34m\u001b[0m\u001b[0;34m\u001b[0m\u001b[0m\n\u001b[0;32m---> 27\u001b[0;31m                 \u001b[0;32mreturn\u001b[0m \u001b[0mfunc\u001b[0m\u001b[0;34m(\u001b[0m\u001b[0;34m*\u001b[0m\u001b[0margs\u001b[0m\u001b[0;34m,\u001b[0m \u001b[0;34m**\u001b[0m\u001b[0mkwargs\u001b[0m\u001b[0;34m)\u001b[0m\u001b[0;34m\u001b[0m\u001b[0;34m\u001b[0m\u001b[0m\n\u001b[0m\u001b[1;32m     28\u001b[0m         \u001b[0;32mreturn\u001b[0m \u001b[0mcast\u001b[0m\u001b[0;34m(\u001b[0m\u001b[0mF\u001b[0m\u001b[0;34m,\u001b[0m \u001b[0mdecorate_context\u001b[0m\u001b[0;34m)\u001b[0m\u001b[0;34m\u001b[0m\u001b[0;34m\u001b[0m\u001b[0m\n\u001b[1;32m     29\u001b[0m \u001b[0;34m\u001b[0m\u001b[0m\n",
            "\u001b[0;32m/usr/local/lib/python3.9/dist-packages/torch/optim/lbfgs.py\u001b[0m in \u001b[0;36mstep\u001b[0;34m(self, closure)\u001b[0m\n\u001b[1;32m    315\u001b[0m         \u001b[0mstate\u001b[0m\u001b[0;34m[\u001b[0m\u001b[0;34m'func_evals'\u001b[0m\u001b[0;34m]\u001b[0m \u001b[0;34m+=\u001b[0m \u001b[0;36m1\u001b[0m\u001b[0;34m\u001b[0m\u001b[0;34m\u001b[0m\u001b[0m\n\u001b[1;32m    316\u001b[0m \u001b[0;34m\u001b[0m\u001b[0m\n\u001b[0;32m--> 317\u001b[0;31m         \u001b[0mflat_grad\u001b[0m \u001b[0;34m=\u001b[0m \u001b[0mself\u001b[0m\u001b[0;34m.\u001b[0m\u001b[0m_gather_flat_grad\u001b[0m\u001b[0;34m(\u001b[0m\u001b[0;34m)\u001b[0m\u001b[0;34m\u001b[0m\u001b[0;34m\u001b[0m\u001b[0m\n\u001b[0m\u001b[1;32m    318\u001b[0m         \u001b[0mopt_cond\u001b[0m \u001b[0;34m=\u001b[0m \u001b[0mflat_grad\u001b[0m\u001b[0;34m.\u001b[0m\u001b[0mabs\u001b[0m\u001b[0;34m(\u001b[0m\u001b[0;34m)\u001b[0m\u001b[0;34m.\u001b[0m\u001b[0mmax\u001b[0m\u001b[0;34m(\u001b[0m\u001b[0;34m)\u001b[0m \u001b[0;34m<=\u001b[0m \u001b[0mtolerance_grad\u001b[0m\u001b[0;34m\u001b[0m\u001b[0;34m\u001b[0m\u001b[0m\n\u001b[1;32m    319\u001b[0m \u001b[0;34m\u001b[0m\u001b[0m\n",
            "\u001b[0;32m/usr/local/lib/python3.9/dist-packages/torch/optim/lbfgs.py\u001b[0m in \u001b[0;36m_gather_flat_grad\u001b[0;34m(self)\u001b[0m\n\u001b[1;32m    254\u001b[0m                 \u001b[0mview\u001b[0m \u001b[0;34m=\u001b[0m \u001b[0mp\u001b[0m\u001b[0;34m.\u001b[0m\u001b[0mgrad\u001b[0m\u001b[0;34m.\u001b[0m\u001b[0mto_dense\u001b[0m\u001b[0;34m(\u001b[0m\u001b[0;34m)\u001b[0m\u001b[0;34m.\u001b[0m\u001b[0mview\u001b[0m\u001b[0;34m(\u001b[0m\u001b[0;34m-\u001b[0m\u001b[0;36m1\u001b[0m\u001b[0;34m)\u001b[0m\u001b[0;34m\u001b[0m\u001b[0;34m\u001b[0m\u001b[0m\n\u001b[1;32m    255\u001b[0m             \u001b[0;32melse\u001b[0m\u001b[0;34m:\u001b[0m\u001b[0;34m\u001b[0m\u001b[0;34m\u001b[0m\u001b[0m\n\u001b[0;32m--> 256\u001b[0;31m                 \u001b[0mview\u001b[0m \u001b[0;34m=\u001b[0m \u001b[0mp\u001b[0m\u001b[0;34m.\u001b[0m\u001b[0mgrad\u001b[0m\u001b[0;34m.\u001b[0m\u001b[0mview\u001b[0m\u001b[0;34m(\u001b[0m\u001b[0;34m-\u001b[0m\u001b[0;36m1\u001b[0m\u001b[0;34m)\u001b[0m\u001b[0;34m\u001b[0m\u001b[0;34m\u001b[0m\u001b[0m\n\u001b[0m\u001b[1;32m    257\u001b[0m             \u001b[0mviews\u001b[0m\u001b[0;34m.\u001b[0m\u001b[0mappend\u001b[0m\u001b[0;34m(\u001b[0m\u001b[0mview\u001b[0m\u001b[0;34m)\u001b[0m\u001b[0;34m\u001b[0m\u001b[0;34m\u001b[0m\u001b[0m\n\u001b[1;32m    258\u001b[0m         \u001b[0;32mreturn\u001b[0m \u001b[0mtorch\u001b[0m\u001b[0;34m.\u001b[0m\u001b[0mcat\u001b[0m\u001b[0;34m(\u001b[0m\u001b[0mviews\u001b[0m\u001b[0;34m,\u001b[0m \u001b[0;36m0\u001b[0m\u001b[0;34m)\u001b[0m\u001b[0;34m\u001b[0m\u001b[0;34m\u001b[0m\u001b[0m\n",
            "\u001b[0;31mRuntimeError\u001b[0m: view size is not compatible with input tensor's size and stride (at least one dimension spans across two contiguous subspaces). Use .reshape(...) instead."
          ]
        }
      ]
    },
    {
      "cell_type": "code",
      "source": [
        "# def lbfgs_attack(model, loss_fn, x, y, eps=0.1, max_iter=20):\n",
        "#     # Set the model in evaluation mode\n",
        "#     model.eval()\n",
        "    \n",
        "#     # Create a copy of the input tensor as a starting point for the attack\n",
        "#     # x_adv = x.requires_grad_(True)\n",
        "\n",
        "#     # Define the L-BFGS optimizer\n",
        "#     optimizer = optim.LBFGS([x_adv], max_iter=max_iter)\n",
        "\n",
        "#     # Define a closure function to compute the loss and gradient\n",
        "#     def closure():\n",
        "#         optimizer.zero_grad()\n",
        "#         tmp= model(x_adv)\n",
        "#         loss = loss_fn(tmp, y)\n",
        "#         loss.backward()\n",
        "#         return loss\n",
        "\n",
        "#     # Run the L-BFGS optimizer to generate the adversarial example\n",
        "#     for i in range(max_iter):\n",
        "#         # Compute the loss and gradient\n",
        "#         loss = optimizer.step(closure)\n",
        "\n",
        "#         # Clip the adversarial example to ensure it stays within the epsilon ball around the original example\n",
        "#         delta = torch.clamp(x_adv - x, min=-eps, max=eps)\n",
        "#         x_adv.data.copy_(torch.clamp(x + delta, min=0, max=1).data)\n",
        "\n",
        "#     return x_adv"
      ],
      "metadata": {
        "id": "BKsXZ-tpJTj2"
      },
      "execution_count": null,
      "outputs": []
    },
    {
      "cell_type": "code",
      "source": [
        "def sen(x):\n",
        "    sen_image = []\n",
        "    x = x.squeeze()\n",
        "    for l in range(3):\n",
        "        t = []\n",
        "        for i in range (96):\n",
        "            var = []\n",
        "            for j in range (96):\n",
        "                n = 0\n",
        "                mu = 0\n",
        "                for k in range(-1,2,1):\n",
        "                    for z in range (-1,2,1):\n",
        "                        if i+k>=96 or i+k<0 or j+z>=96 or j+z<0 :\n",
        "                            continue\n",
        "                        n += 1\n",
        "                        mu += x[l][i+k][j+z]\n",
        "                mu = mu/n\n",
        "                s = 0\n",
        "                for k in range(-1,2,1):\n",
        "                    for z in range (-1,2,1):\n",
        "                        if i+k>=96 or i+k<0 or j+z>=96 or j+z<0 :\n",
        "                            continue\n",
        "                        s += (x[l][i+k][j+z]-mu)*(x[l][i+k][j+z]-mu)\n",
        "                s = s/n*n\n",
        "                s = math.sqrt(s)\n",
        "                if s == 0: \n",
        "                    s = 0.0001\n",
        "                var.append(1/s)\n",
        "            t.append(var)\n",
        "        sen_image.append(t)\n",
        "    return sen_image\n"
      ],
      "metadata": {
        "id": "4oGjH8DmVr4V"
      },
      "execution_count": null,
      "outputs": []
    },
    {
      "cell_type": "code",
      "source": [
        "def gap(x,model,target,k=100):\n",
        "  output= model(x)\n",
        "  m = nn.Softmax(dim=1)\n",
        "  output = m(output)\n",
        "  pt=output[0, target]\n",
        "  sum = 0\n",
        "  for i in range(10):\n",
        "      if i != target.item() :\n",
        "        sum += torch.exp(k*output[0, i])\n",
        "  return pt - torch.log(sum)/k"
      ],
      "metadata": {
        "id": "g0bs0exAWJl1"
      },
      "execution_count": null,
      "outputs": []
    },
    {
      "cell_type": "code",
      "source": [
        "def perturb_priority(x,target,sensitivity):\n",
        "  perturb = []\n",
        "  delta = 0.1\n",
        "  for c in range(3):\n",
        "    for i in range(96):\n",
        "        for j in range(96):\n",
        "            with torch.no_grad():\n",
        "                g_x = gap(x,model,target)\n",
        "                x[0][c][i][j] += torch.tensor(delta)\n",
        "                g_x_e = gap(x,model,target)\n",
        "                x[0][c][i][j] -= torch.tensor(delta)\n",
        "                grad = (g_x_e - g_x)/delta\n",
        "                perturb.append(grad/sensitivity[c][i][j])\n",
        "  return torch.tensor(perturb)\n",
        "  "
      ],
      "metadata": {
        "id": "fsz3jgQWWLjU"
      },
      "execution_count": null,
      "outputs": []
    },
    {
      "cell_type": "code",
      "source": [
        "def our_method(img,target,model,Dmax,delta,m):\n",
        "  D=0\n",
        "  while D<Dmax:\n",
        "    D=0\n",
        "    sensitivity=sen(img)\n",
        "    perturb_list=perturb_priority(img,target,sensitivity)\n",
        "    sorted_perturb,indices=torch.sort(perturb_list,descending=True)\n",
        "    print(D)\n",
        "    with torch.no_grad():\n",
        "      for i in range(m):\n",
        "        indices[i] = int(indices[i]/3)\n",
        "        x = indices[i]/96\n",
        "        y = indices[i]%96\n",
        "        x = x.item()\n",
        "        y = y.item()\n",
        "        x = int(x)\n",
        "        y = int(y)\n",
        "        z = torch.zeros(img.shape)\n",
        "        z[0][0][x][y] += torch.tensor(delta)\n",
        "        img = torch.add(img,z)\n",
        "        D += delta*sensitivity[x][y]\n",
        "        print(D)\n",
        "  return img"
      ],
      "metadata": {
        "id": "aqJkWdayWMLa"
      },
      "execution_count": null,
      "outputs": []
    },
    {
      "cell_type": "code",
      "source": [
        "#y = our_method(torch.tensor(img).unsqueeze(dim=0),torch.tensor(lbl),alexnet,0.01,0.25,20)"
      ],
      "metadata": {
        "id": "lvGvgVOhWS8c"
      },
      "execution_count": null,
      "outputs": []
    },
    {
      "cell_type": "code",
      "source": [
        "images=[]\n",
        "labels=[]\n",
        "for i,l in testloader:\n",
        "  images.append(i)\n",
        "  labels.append(l)"
      ],
      "metadata": {
        "id": "8ORx1CU3WYm0"
      },
      "execution_count": null,
      "outputs": []
    },
    {
      "cell_type": "code",
      "source": [
        "#alexnet(torch.tensor(img))"
      ],
      "metadata": {
        "id": "cfNkQHHh4Tsm"
      },
      "execution_count": null,
      "outputs": []
    },
    {
      "cell_type": "code",
      "source": [
        "# y=y.numpy()\n",
        "# y = np.transpose(y,(1,2,0))\n",
        "# plt.imshow(y)\n",
        "# plt.axis('off')\n",
        "# plt.show()"
      ],
      "metadata": {
        "id": "bdSpyth34bGL"
      },
      "execution_count": null,
      "outputs": []
    },
    {
      "cell_type": "code",
      "source": [
        "lbl=torch.tensor(lbl, dtype=torch.int8)"
      ],
      "metadata": {
        "id": "9IdA_VdV_4TX"
      },
      "execution_count": null,
      "outputs": []
    },
    {
      "cell_type": "code",
      "source": [
        "def fgsm_attack(model, images, labels, epsilon=0.05):\n",
        "    images = images.clone().detach().requires_grad_(True)\n",
        "    loss_fn = F.cross_entropy\n",
        "\n",
        "    outputs = model(images)\n",
        "    loss = loss_fn(outputs, labels)\n",
        "    model.zero_grad()\n",
        "    loss.backward()\n",
        "\n",
        "    gradient = images.grad.data.sign()\n",
        "    adv_images = images + epsilon * gradient\n",
        "    adv_images = torch.clamp(adv_images, 0, 1).detach()\n",
        "    return adv_images"
      ],
      "metadata": {
        "id": "Neex-XAgAC1y"
      },
      "execution_count": null,
      "outputs": []
    },
    {
      "cell_type": "code",
      "source": [
        "fgsm_image=fgsm_attack(alexnet,torch.tensor(img).unsqueeze(dim=0),torch.tensor(lbl).unsqueeze(dim=0),0.05)"
      ],
      "metadata": {
        "id": "rDGg47t8TuTn"
      },
      "execution_count": null,
      "outputs": []
    },
    {
      "cell_type": "code",
      "source": [
        "\n",
        "y=fgsm_image\n",
        "y=y.squeeze()\n",
        "y=y.numpy()\n",
        "y = np.transpose(y,(2,1,0))\n",
        "plt.imshow(y)\n",
        "plt.axis('off')\n",
        "plt.show()"
      ],
      "metadata": {
        "colab": {
          "base_uri": "https://localhost:8080/",
          "height": 248
        },
        "id": "A3Pckq_mT4W6",
        "outputId": "7a00ba79-f7a1-4a9a-9868-76b197d68ac7"
      },
      "execution_count": null,
      "outputs": [
        {
          "output_type": "display_data",
          "data": {
            "text/plain": [
              "<Figure size 432x288 with 1 Axes>"
            ],
            "image/png": "[encoded data removed]"
          },
          "metadata": {}
        }
      ]
    },
    {
      "cell_type": "code",
      "source": [],
      "metadata": {
        "id": "d1kswU0PZL0T"
      },
      "execution_count": null,
      "outputs": []
    }
  ]
}
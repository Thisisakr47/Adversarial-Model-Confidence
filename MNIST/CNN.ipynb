{
  "cells": [
    {
      "cell_type": "code",
      "execution_count": 1,
      "metadata": {
        "id": "TsL3IQBKqKrJ"
      },
      "outputs": [],
      "source": [
        "import torch\n",
        "import torch.nn as nn\n",
        "import torchvision.transforms as transforms\n",
        "import torchvision.datasets as dsets\n",
        "from torch.utils.data import DataLoader\n",
        "import torch.nn.functional as F\n",
        "import statistics\n",
        "import numpy as np\n",
        "import random\n",
        "import math\n",
        "import matplotlib.pyplot as plt\n",
        "import seaborn as sns\n",
        "import torch.optim as optim\n",
        "from scipy.optimize import fmin_l_bfgs_b"
      ]
    },
    {
      "cell_type": "markdown",
      "metadata": {
        "id": "oop9TdH2tW_7"
      },
      "source": [
        "# MNSIT Model Training"
      ]
    },
    {
      "cell_type": "code",
      "execution_count": 2,
      "metadata": {
        "id": "cEgYa--F0Y2x"
      },
      "outputs": [],
      "source": [
        "# Define the device (GPU or CPU)\n",
        "device = torch.device('cuda' if torch.cuda.is_available() else 'cpu')"
      ]
    },
    {
      "cell_type": "code",
      "execution_count": 3,
      "metadata": {
        "colab": {
          "base_uri": "https://localhost:8080/",
          "height": 423,
          "referenced_widgets": [
            "af283a33b42c493cb2142da207b8017c",
            "493411ce0f3845808184a5d63f75bca9",
            "98e146d2727c47f3a17e2a2551451c6c",
            "8d614b34a58347f58a289817428b523e",
            "ed54a1fcccb64212aa8441cca9969c50",
            "e7c6b2b8488e4802b486b9b3cc8ad20d",
            "63ebd194a4414b199dc07c893e86c60b",
            "cb31b5d510af46109554a9cee6a3bd7b",
            "caf9d18d5aba4ae3a079ae76f9545315",
            "a0b7478090104b37befaa3ba7d60005f",
            "e667143f425343e282a0e5e789581cd8",
            "b3901d80a6f14e1d9f0fadd294f7a4ee",
            "0c0882659f3945d49280fefd97cb46ea",
            "49fc7ed8929a4fe898995182e0d055b3",
            "29a129e385794a8c84a6096275679b28",
            "e8a48bb55472464d818b74916042ab39",
            "4522077d92d3430691cb0d23e7f1f38e",
            "cbcc644d0cfa4f5bac44790641b06aec",
            "5aa6e1d7bce140bd8b61caabbe538e42",
            "03e044732e1148a2a7ee13460a0c1cca",
            "6c644db1909d44a8a228fedde355735e",
            "8ce716b555954baf99c8c84291f997a9",
            "ab050f283e1d4de98172be9db81c6d78",
            "6c8440e22b304d409e298b24e2824f9f",
            "aef5539f5c02449597198e44373a1a96",
            "09dd9ddd34cb451fbfd00c0b912c4eb3",
            "99e205272d1e4104b717a4890b4844a2",
            "886c13cf9bb84ebd855c014cde48d77b",
            "987a6dbfe8f04e02ab2d8cc1d73d7fbb",
            "6fa410e5a72449faba4906b9b470b081",
            "2a57c2e390e24b1ab9af0804dcc53c7e",
            "675680587d204b8391fc11f8fa435abd",
            "2f1115ecfc3143c3801e5e852f458a86",
            "82f9fb5661dd464184f9c91ede14197f",
            "75240c7617b94aa09db90cc778f92b70",
            "cbe3986e26a74f37bed578ef3ffed6cc",
            "2f72f681bed949058c9f5490d386fe98",
            "172a3163220f4360b30fae3cb3a95d05",
            "bbac173d05fa4130a804bea2bf68eaab",
            "657e4f9d565543cab61fcc73693c097c",
            "4707f215681048708517633f6520b017",
            "044a4f7a49ff41fb8af95c27b4a5ad5e",
            "ed9a95b239534db48ec968f5ecb298b2",
            "464d14d4e447433f936623eb832431c1"
          ]
        },
        "id": "axQ8Bcr6sVn_",
        "outputId": "60495eda-545c-4737-a220-d114ca28a45c"
      },
      "outputs": [
        {
          "output_type": "stream",
          "name": "stdout",
          "text": [
            "Downloading http://yann.lecun.com/exdb/mnist/train-images-idx3-ubyte.gz\n",
            "Downloading http://yann.lecun.com/exdb/mnist/train-images-idx3-ubyte.gz to ./data/MNIST/raw/train-images-idx3-ubyte.gz\n"
          ]
        },
        {
          "output_type": "display_data",
          "data": {
            "text/plain": [
              "  0%|          | 0/9912422 [00:00<?, ?it/s]"
            ],
            "application/vnd.jupyter.widget-view+json": {
              "version_major": 2,
              "version_minor": 0,
              "model_id": "af283a33b42c493cb2142da207b8017c"
            }
          },
          "metadata": {}
        },
        {
          "output_type": "stream",
          "name": "stdout",
          "text": [
            "Extracting ./data/MNIST/raw/train-images-idx3-ubyte.gz to ./data/MNIST/raw\n",
            "\n",
            "Downloading http://yann.lecun.com/exdb/mnist/train-labels-idx1-ubyte.gz\n",
            "Downloading http://yann.lecun.com/exdb/mnist/train-labels-idx1-ubyte.gz to ./data/MNIST/raw/train-labels-idx1-ubyte.gz\n"
          ]
        },
        {
          "output_type": "display_data",
          "data": {
            "text/plain": [
              "  0%|          | 0/28881 [00:00<?, ?it/s]"
            ],
            "application/vnd.jupyter.widget-view+json": {
              "version_major": 2,
              "version_minor": 0,
              "model_id": "b3901d80a6f14e1d9f0fadd294f7a4ee"
            }
          },
          "metadata": {}
        },
        {
          "output_type": "stream",
          "name": "stdout",
          "text": [
            "Extracting ./data/MNIST/raw/train-labels-idx1-ubyte.gz to ./data/MNIST/raw\n",
            "\n",
            "Downloading http://yann.lecun.com/exdb/mnist/t10k-images-idx3-ubyte.gz\n",
            "Downloading http://yann.lecun.com/exdb/mnist/t10k-images-idx3-ubyte.gz to ./data/MNIST/raw/t10k-images-idx3-ubyte.gz\n"
          ]
        },
        {
          "output_type": "display_data",
          "data": {
            "text/plain": [
              "  0%|          | 0/1648877 [00:00<?, ?it/s]"
            ],
            "application/vnd.jupyter.widget-view+json": {
              "version_major": 2,
              "version_minor": 0,
              "model_id": "ab050f283e1d4de98172be9db81c6d78"
            }
          },
          "metadata": {}
        },
        {
          "output_type": "stream",
          "name": "stdout",
          "text": [
            "Extracting ./data/MNIST/raw/t10k-images-idx3-ubyte.gz to ./data/MNIST/raw\n",
            "\n",
            "Downloading http://yann.lecun.com/exdb/mnist/t10k-labels-idx1-ubyte.gz\n",
            "Downloading http://yann.lecun.com/exdb/mnist/t10k-labels-idx1-ubyte.gz to ./data/MNIST/raw/t10k-labels-idx1-ubyte.gz\n"
          ]
        },
        {
          "output_type": "display_data",
          "data": {
            "text/plain": [
              "  0%|          | 0/4542 [00:00<?, ?it/s]"
            ],
            "application/vnd.jupyter.widget-view+json": {
              "version_major": 2,
              "version_minor": 0,
              "model_id": "82f9fb5661dd464184f9c91ede14197f"
            }
          },
          "metadata": {}
        },
        {
          "output_type": "stream",
          "name": "stdout",
          "text": [
            "Extracting ./data/MNIST/raw/t10k-labels-idx1-ubyte.gz to ./data/MNIST/raw\n",
            "\n"
          ]
        }
      ],
      "source": [
        "train_dataset = dsets.MNIST(root='./data', \n",
        "                            train=True, \n",
        "                            transform=transforms.ToTensor(),\n",
        "                            download=True)\n",
        "test_dataset = dsets.MNIST(root='./data', \n",
        "                           train=False, \n",
        "                           transform=transforms.ToTensor())"
      ]
    },
    {
      "cell_type": "code",
      "execution_count": 4,
      "metadata": {
        "id": "ZzKc5H9pvtLR"
      },
      "outputs": [],
      "source": [
        "# train_dataset = torch.utils.data.Subset(train_dataset, indices=range(0, len(train_dataset)//5*3))"
      ]
    },
    {
      "cell_type": "code",
      "execution_count": 5,
      "metadata": {
        "id": "kOjMe8PttYl2"
      },
      "outputs": [],
      "source": [
        "loaders = {\n",
        "    'train' : torch.utils.data.DataLoader(train_dataset, \n",
        "                                          batch_size=100, \n",
        "                                          shuffle=True, \n",
        "                                          num_workers=1),\n",
        "    \n",
        "    'test'  : torch.utils.data.DataLoader(test_dataset, \n",
        "                                          batch_size=1, \n",
        "                                          shuffle=True, \n",
        "                                          num_workers=1),\n",
        "}"
      ]
    },
    {
      "cell_type": "code",
      "execution_count": 6,
      "metadata": {
        "id": "iVUR4o3xsjpP"
      },
      "outputs": [],
      "source": [
        "class CNN(nn.Module):\n",
        "    def __init__(self, dropout_prob=0.2):\n",
        "        super(CNN, self).__init__()\n",
        "        self.conv1 = nn.Sequential(         \n",
        "            nn.Conv2d(\n",
        "                in_channels=1,              \n",
        "                out_channels=16,            \n",
        "                kernel_size=5,              \n",
        "                stride=1,                   \n",
        "                padding=2,                  \n",
        "            ),                              \n",
        "            nn.ReLU(),                      \n",
        "            nn.MaxPool2d(kernel_size=2),    \n",
        "        )\n",
        "        self.conv2 = nn.Sequential(         \n",
        "            nn.Conv2d(16, 32, 5, 1, 2),     \n",
        "            nn.ReLU(),                      \n",
        "            nn.MaxPool2d(2),                \n",
        "        )\n",
        "        # fully connected layer, output 10 classes\n",
        "        self.out = nn.Linear(32 * 7 * 7, 10)\n",
        "        self.dropout = nn.Dropout(p=dropout_prob)\n",
        "    def forward(self, x):\n",
        "        x = self.conv1(x)\n",
        "        x = self.dropout(x)\n",
        "        x = self.conv2(x)\n",
        "        # flatten the output of conv2 to (batch_size, 32 * 7 * 7)\n",
        "        x = self.dropout(x)\n",
        "        x = x.view(x.size(0), -1)       \n",
        "        x = self.dropout(x)\n",
        "        output = self.out(x)\n",
        "        # m = nn.Softmax(dim=1)   # Softmax\n",
        "        # output = m(output);     # Softmax\n",
        "        return output, x\n"
      ]
    },
    {
      "cell_type": "code",
      "execution_count": 7,
      "metadata": {
        "colab": {
          "base_uri": "https://localhost:8080/"
        },
        "id": "KYvhzCM_uBNU",
        "outputId": "bfa373c7-62a1-4da2-f45c-349e68eae87b"
      },
      "outputs": [
        {
          "output_type": "execute_result",
          "data": {
            "text/plain": [
              "CNN(\n",
              "  (conv1): Sequential(\n",
              "    (0): Conv2d(1, 16, kernel_size=(5, 5), stride=(1, 1), padding=(2, 2))\n",
              "    (1): ReLU()\n",
              "    (2): MaxPool2d(kernel_size=2, stride=2, padding=0, dilation=1, ceil_mode=False)\n",
              "  )\n",
              "  (conv2): Sequential(\n",
              "    (0): Conv2d(16, 32, kernel_size=(5, 5), stride=(1, 1), padding=(2, 2))\n",
              "    (1): ReLU()\n",
              "    (2): MaxPool2d(kernel_size=2, stride=2, padding=0, dilation=1, ceil_mode=False)\n",
              "  )\n",
              "  (out): Linear(in_features=1568, out_features=10, bias=True)\n",
              "  (dropout): Dropout(p=0.25, inplace=False)\n",
              ")"
            ]
          },
          "metadata": {},
          "execution_count": 7
        }
      ],
      "source": [
        "model = CNN(0.25)\n",
        "model"
      ]
    },
    {
      "cell_type": "code",
      "execution_count": 8,
      "metadata": {
        "id": "0bZeNrfusqgH"
      },
      "outputs": [],
      "source": [
        "loss_func = nn.CrossEntropyLoss()\n",
        "optimizer = torch.optim.Adam(model.parameters(), lr = 0.01)"
      ]
    },
    {
      "cell_type": "code",
      "execution_count": 9,
      "metadata": {
        "colab": {
          "base_uri": "https://localhost:8080/"
        },
        "id": "JH8oV34s2nHl",
        "outputId": "28e9faae-ef0e-41e9-d2b2-ef6840315b09"
      },
      "outputs": [
        {
          "output_type": "stream",
          "name": "stdout",
          "text": [
            "Epoch [1/5], Step [100/600], Loss: 0.1560\n",
            "Epoch [1/5], Step [200/600], Loss: 0.1815\n",
            "Epoch [1/5], Step [300/600], Loss: 0.1027\n",
            "Epoch [1/5], Step [400/600], Loss: 0.2020\n",
            "Epoch [1/5], Step [500/600], Loss: 0.2595\n",
            "Epoch [1/5], Step [600/600], Loss: 0.0951\n",
            "Epoch [2/5], Step [100/600], Loss: 0.0731\n",
            "Epoch [2/5], Step [200/600], Loss: 0.1383\n",
            "Epoch [2/5], Step [300/600], Loss: 0.1952\n",
            "Epoch [2/5], Step [400/600], Loss: 0.1109\n",
            "Epoch [2/5], Step [500/600], Loss: 0.1724\n",
            "Epoch [2/5], Step [600/600], Loss: 0.1158\n",
            "Epoch [3/5], Step [100/600], Loss: 0.2145\n",
            "Epoch [3/5], Step [200/600], Loss: 0.0595\n",
            "Epoch [3/5], Step [300/600], Loss: 0.1722\n",
            "Epoch [3/5], Step [400/600], Loss: 0.1156\n",
            "Epoch [3/5], Step [500/600], Loss: 0.0536\n",
            "Epoch [3/5], Step [600/600], Loss: 0.0569\n",
            "Epoch [4/5], Step [100/600], Loss: 0.0733\n",
            "Epoch [4/5], Step [200/600], Loss: 0.1550\n",
            "Epoch [4/5], Step [300/600], Loss: 0.0144\n",
            "Epoch [4/5], Step [400/600], Loss: 0.1811\n",
            "Epoch [4/5], Step [500/600], Loss: 0.0646\n",
            "Epoch [4/5], Step [600/600], Loss: 0.2227\n",
            "Epoch [5/5], Step [100/600], Loss: 0.0749\n",
            "Epoch [5/5], Step [200/600], Loss: 0.2136\n",
            "Epoch [5/5], Step [300/600], Loss: 0.1477\n",
            "Epoch [5/5], Step [400/600], Loss: 0.0436\n",
            "Epoch [5/5], Step [500/600], Loss: 0.1077\n",
            "Epoch [5/5], Step [600/600], Loss: 0.1990\n"
          ]
        }
      ],
      "source": [
        "from torch.autograd import Variable\n",
        "num_epochs = 5\n",
        "def train(num_epochs, cnn, loaders, ratio = 1):\n",
        "    \n",
        "    cnn.train()\n",
        "        \n",
        "    # Train the model\n",
        "    total_step = len(loaders['train'])\n",
        "    \n",
        "    for epoch in range(num_epochs):\n",
        "        cnt=0\n",
        "        for i, (images, labels) in enumerate(loaders['train']):\n",
        "            # cnt+=1\n",
        "            # if cnt==total_step*ratio:\n",
        "            #     break\n",
        "            # gives batch data, normalize x when iterate train_loader\n",
        "            b_x = Variable(images)   # batch x\n",
        "            b_y = Variable(labels)   # batch y\n",
        "            output = model(b_x)[0]             \n",
        "            loss = loss_func(output, b_y)\n",
        "            \n",
        "            # clear gradients for this training step   \n",
        "            optimizer.zero_grad()           \n",
        "            \n",
        "            # backpropagation, compute gradients \n",
        "            loss.backward()    \n",
        "            # apply gradients             \n",
        "            optimizer.step()                \n",
        "            \n",
        "            if (i+1) % 100 == 0:\n",
        "                print ('Epoch [{}/{}], Step [{}/{}], Loss: {:.4f}' .format(epoch + 1, num_epochs, i + 1, total_step, loss.item()))\n",
        "                pass\n",
        "        pass\n",
        "    pass\n",
        "train(num_epochs, model, loaders)"
      ]
    },
    {
      "cell_type": "code",
      "execution_count": 10,
      "metadata": {
        "colab": {
          "base_uri": "https://localhost:8080/"
        },
        "id": "p8GB8ixO3w1p",
        "outputId": "dde5b9f7-b7d9-4f70-b15e-3daea9f9b4e6"
      },
      "outputs": [
        {
          "output_type": "stream",
          "name": "stdout",
          "text": [
            "Test Accuracy : 0.970\n"
          ]
        }
      ],
      "source": [
        "def test():\n",
        "    # model.eval()  ## Dropout Off\n",
        "    model.train() ## Dropout On\n",
        "    with torch.no_grad():\n",
        "        s = 0\n",
        "        p = 0\n",
        "        for images, labels in loaders['test']:\n",
        "            test_output, last_layer = model(images)\n",
        "            pred_y = torch.max(test_output, 1)[1].data.squeeze()\n",
        "            s += (pred_y == labels).sum().item();\n",
        "            p += float(labels.size(0))\n",
        "            pass\n",
        "        accuracy = s / p;\n",
        "    print('Test Accuracy : %.3f' % accuracy)\n",
        "    pass\n",
        "test()"
      ]
    },
    {
      "cell_type": "markdown",
      "metadata": {
        "id": "be8zQr8-tlxR"
      },
      "source": [
        "# Uncertanity Estimation"
      ]
    },
    {
      "cell_type": "code",
      "execution_count": 11,
      "metadata": {
        "id": "LJfboQqZU8er"
      },
      "outputs": [],
      "source": [
        "def uncertainty(model,data,labels,times=50):\n",
        "  l = []\n",
        "  pred = []\n",
        "  img_ind = []\n",
        "  f = 0\n",
        "  ff = 0\n",
        "  acc = torch.zeros(1, 10)\n",
        "  t = torch.ones(1, 10)\n",
        "  p = torch.ones(1, 10)\n",
        "  t = t * times\n",
        "  data=data.reshape(1,1,28,28)\n",
        "  labels = int(labels.item())\n",
        "  for i in range(times):\n",
        "    model.train()\n",
        "    output,layer=model(data)\n",
        "    pred_y = torch.max(output, 1)[1].data.numpy().squeeze()\n",
        "    pred.append(pred_y)\n",
        "    l.append(output)\n",
        "    \n",
        "    m = nn.Softmax(dim=1);\n",
        "    l[i] = m(l[i])\n",
        "    acc = acc + l[i]\n",
        "    if pred_y!=labels:\n",
        "        f = 1\n",
        "        ff = pred_y\n",
        "  \n",
        "  acc /= times\n",
        "  p[0, labels] = 0\n",
        "  acc = p - acc\n",
        "  acc[0, labels] = (acc[0, labels])*(-1)\n",
        "\n",
        "  return l, pred, acc, f, ff"
      ]
    },
    {
      "cell_type": "code",
      "execution_count": 12,
      "metadata": {
        "id": "KWKb3mXr8U9d"
      },
      "outputs": [],
      "source": [
        "def normalize(ans):\n",
        "    for i in range(len(ans)):\n",
        "        with torch.no_grad(): \n",
        "            ans[i] = torch.Tensor.numpy(ans[i])\n",
        "    ans = np.asarray(ans)\n",
        "    ans = np.ones((1,10), float) - np.var(ans,axis=0)\n",
        "    ans *= 100;\n",
        "    return ans"
      ]
    },
    {
      "cell_type": "code",
      "execution_count": 13,
      "metadata": {
        "colab": {
          "base_uri": "https://localhost:8080/"
        },
        "id": "hHNOPPv47nBz",
        "outputId": "6e8748c2-40db-4944-f9d0-7fb97c23ebce"
      },
      "outputs": [
        {
          "output_type": "stream",
          "name": "stderr",
          "text": [
            "<ipython-input-13-5876b863e5af>:30: UserWarning: Creating a tensor from a list of numpy.ndarrays is extremely slow. Please consider converting the list to a single numpy.ndarray with numpy.array() before converting to a tensor. (Triggered internally at ../torch/csrc/utils/tensor_new.cpp:230.)\n",
            "  ans = torch.tensor(ans, dtype=torch.float)\n"
          ]
        }
      ],
      "source": [
        "ans = []\n",
        "imgs = []\n",
        "pred = []\n",
        "cnt = 0\n",
        "total = 250\n",
        "accuracy = []\n",
        "ind = []\n",
        "act = []\n",
        "indf = []\n",
        "\n",
        "actual = torch.zeros(1, total)\n",
        "for images, labels in loaders['test']:\n",
        "    imgs.append(images)\n",
        "    if cnt >= 250: \n",
        "        break\n",
        "    res, pred_y, acc, f, ff = uncertainty(model, images, labels)\n",
        "    res = normalize(res)\n",
        "    pred.append(pred_y)\n",
        "    ans.append(res)\n",
        "    accuracy.append(acc)\n",
        "    actual[0, cnt] = labels\n",
        "    if f:\n",
        "        ind.append(cnt)\n",
        "        indf.append(ff)\n",
        "        act.append(int(labels))\n",
        "    cnt += 1\n",
        "    \n",
        "\n",
        "\n",
        "ans = torch.tensor(ans, dtype=torch.float)"
      ]
    },
    {
      "cell_type": "code",
      "execution_count": 14,
      "metadata": {
        "id": "eEssvjJUkVR2"
      },
      "outputs": [],
      "source": [
        "def correlation(ans, accuracy):\n",
        "    corr = torch.zeros(1, ans.size()[0])\n",
        "    for i in range(ans.size()[0]): \n",
        "        tensor1 = accuracy[i]\n",
        "        tensor2 = ans[i]\n",
        "\n",
        "        mean1 = torch.mean(tensor1)\n",
        "        mean2 = torch.mean(tensor2)\n",
        "\n",
        "        tensor1 = tensor1 - mean1\n",
        "        tensor2 = tensor2 - mean2\n",
        "\n",
        "        res = torch.sum(torch.mul(tensor1, tensor2)) / (torch.sqrt(torch.sum(torch.mul(tensor1, tensor1))) * torch.sqrt(torch.sum(torch.mul(tensor2, tensor2))))\n",
        "        if (torch.sqrt(torch.sum(torch.mul(tensor1, tensor1))) * torch.sqrt(torch.sum(torch.mul(tensor2, tensor2)))) == 0: \n",
        "            corr[0,i] = 1\n",
        "        else:\n",
        "            corr[0, i] = res\n",
        "    return corr"
      ]
    },
    {
      "cell_type": "code",
      "execution_count": 15,
      "metadata": {
        "id": "7cMcOl0-gZ5O"
      },
      "outputs": [],
      "source": [
        "corr = correlation(ans, accuracy)"
      ]
    },
    {
      "cell_type": "code",
      "execution_count": 16,
      "metadata": {
        "id": "szmXuQqjF9vN"
      },
      "outputs": [],
      "source": [
        "def plot(x, y):\n",
        "    figure = plt.figure(figsize=(20, 5))\n",
        "\n",
        "    figure.add_subplot(1, 3, 1)\n",
        "    plt.scatter(x, y)\n",
        "\n",
        "    plt.subplot(1, 3, 2)\n",
        "    sns.set(style=\"whitegrid\")\n",
        "    sns.stripplot(x=x, y=y, jitter=0.2)\n",
        "\n",
        "    plt.subplot(1, 3, 3)\n",
        "    sns.kdeplot(x,y, shade = True, cbar=True)\n",
        "\n",
        "    plt.show()"
      ]
    },
    {
      "cell_type": "code",
      "execution_count": 17,
      "metadata": {
        "colab": {
          "base_uri": "https://localhost:8080/",
          "height": 0
        },
        "id": "jlFONjx6dlN8",
        "outputId": "407787d0-c024-469d-b55e-0f8b1e3835a2"
      },
      "outputs": [
        {
          "output_type": "stream",
          "name": "stderr",
          "text": [
            "/usr/local/lib/python3.9/dist-packages/seaborn/_decorators.py:36: FutureWarning: Pass the following variable as a keyword arg: y. From version 0.12, the only valid positional argument will be `data`, and passing other arguments without an explicit keyword will result in an error or misinterpretation.\n",
            "  warnings.warn(\n"
          ]
        },
        {
          "output_type": "display_data",
          "data": {
            "text/plain": [
              "<Figure size 1440x360 with 4 Axes>"
            ],
            "image/png": "[encoded data removed]"
          },
          "metadata": {
            "needs_background": "light"
          }
        }
      ],
      "source": [
        "x = []\n",
        "y = []\n",
        "\n",
        "for i in range(250):\n",
        "    for j in range(10):\n",
        "        x.append(j)\n",
        "        y.append(float(ans[i][0, j]))\n",
        "\n",
        "plot(x, y)"
      ]
    },
    {
      "cell_type": "code",
      "execution_count": 18,
      "metadata": {
        "colab": {
          "base_uri": "https://localhost:8080/",
          "height": 0
        },
        "id": "SntG-kzme9yg",
        "outputId": "e3a8f3d5-7d4e-4ebb-9aaf-ddbe8bd22859"
      },
      "outputs": [
        {
          "output_type": "stream",
          "name": "stderr",
          "text": [
            "/usr/local/lib/python3.9/dist-packages/seaborn/_decorators.py:36: FutureWarning: Pass the following variable as a keyword arg: y. From version 0.12, the only valid positional argument will be `data`, and passing other arguments without an explicit keyword will result in an error or misinterpretation.\n",
            "  warnings.warn(\n"
          ]
        },
        {
          "output_type": "display_data",
          "data": {
            "text/plain": [
              "<Figure size 1440x360 with 4 Axes>"
            ],
            "image/png": "[encoded data removed]"
          },
          "metadata": {}
        }
      ],
      "source": [
        "x1 = []\n",
        "y1 = []\n",
        "\n",
        "for i in range(250):\n",
        "    for j in range(10):\n",
        "        x1.append(j)\n",
        "        y1.append(float(accuracy[i][0, j]))\n",
        "\n",
        "plot(x1, y1)"
      ]
    },
    {
      "cell_type": "code",
      "execution_count": 19,
      "metadata": {
        "id": "BhlqFntakTPI"
      },
      "outputs": [],
      "source": [
        "def relation(j):\n",
        "    a = []\n",
        "    b = []\n",
        "\n",
        "    for i in range(250):\n",
        "        a.append(float(accuracy[i][0, j]))\n",
        "        b.append(float(ans[i][0, j]))\n",
        "    plot(a, b);\n",
        "    return a, b"
      ]
    },
    {
      "cell_type": "code",
      "execution_count": 20,
      "metadata": {
        "colab": {
          "base_uri": "https://localhost:8080/",
          "height": 0
        },
        "id": "ZQ8ASOkF6NCl",
        "outputId": "d004b4df-aeab-4a74-efbe-bdcd7462989b"
      },
      "outputs": [
        {
          "output_type": "stream",
          "name": "stderr",
          "text": [
            "/usr/local/lib/python3.9/dist-packages/seaborn/_decorators.py:36: FutureWarning: Pass the following variable as a keyword arg: y. From version 0.12, the only valid positional argument will be `data`, and passing other arguments without an explicit keyword will result in an error or misinterpretation.\n",
            "  warnings.warn(\n"
          ]
        },
        {
          "output_type": "display_data",
          "data": {
            "text/plain": [
              "<Figure size 1440x360 with 4 Axes>"
            ],
            "image/png": "[encoded data removed]"
          },
          "metadata": {}
        }
      ],
      "source": [
        "a, b = relation(5)"
      ]
    },
    {
      "cell_type": "code",
      "execution_count": 21,
      "metadata": {
        "id": "B-5fZYW57cYy"
      },
      "outputs": [],
      "source": [
        "def plot_image(unc,acc,a,b):\n",
        "    images_index=[]\n",
        "    for i in range(len(a)):\n",
        "        if a[i]<=unc and b[i]<=acc:\n",
        "            images_index.append(i)\n",
        "    return images_index"
      ]
    },
    {
      "cell_type": "code",
      "execution_count": 22,
      "metadata": {
        "colab": {
          "base_uri": "https://localhost:8080/",
          "height": 0
        },
        "id": "zX3PLD0Bp3we",
        "outputId": "cf8130df-2332-49ee-f925-71102427e022"
      },
      "outputs": [
        {
          "output_type": "display_data",
          "data": {
            "text/plain": [
              "<Figure size 1728x1728 with 7 Axes>"
            ],
            "image/png": "[encoded data removed]"
          },
          "metadata": {}
        }
      ],
      "source": [
        "item = 7\n",
        "fig, axs = plt.subplots(1, item, figsize=(24,24))\n",
        "for i in range(item):\n",
        "    axs[i].imshow(imgs[ind[i]].reshape(28,28).squeeze(), cmap=\"gray\")\n",
        "    axs[i].set_title(f\"actual:{act[i]}  pred:{indf[i]}\")\n",
        "    axs[i].grid(False)\n",
        "plt.show()"
      ]
    },
    {
      "cell_type": "markdown",
      "metadata": {
        "id": "d8UBK4U2s7HH"
      },
      "source": [
        "# Adversarial Attack Implementation\n",
        "\n"
      ]
    },
    {
      "cell_type": "code",
      "execution_count": 23,
      "metadata": {
        "id": "-bHF6woUIs8h"
      },
      "outputs": [],
      "source": [
        "def fgsm(image, model, epsilon):\n",
        "    # Set the model to evaluation mode\n",
        "    model.eval()\n",
        "\n",
        "    # Disable gradients\n",
        "    image.requires_grad = True\n",
        "\n",
        "    # Forward pass\n",
        "    output, x = model(image)\n",
        "    \n",
        "    # Calculate the loss\n",
        "    loss = F.nll_loss(output, torch.tensor([0]))\n",
        "\n",
        "    # Backward pass\n",
        "    model.zero_grad()\n",
        "    loss.backward()\n",
        "\n",
        "    # Generate the adversarial example\n",
        "    sign_data_grad = image.grad.sign()\n",
        "    perturbed_image = image + epsilon * sign_data_grad\n",
        "\n",
        "    # Clip the image to be within 0 and 1\n",
        "    perturbed_image = torch.clamp(perturbed_image, 0, 1)\n",
        "\n",
        "    return perturbed_image"
      ]
    },
    {
      "cell_type": "code",
      "execution_count": 24,
      "metadata": {
        "id": "kl355unj8qaW"
      },
      "outputs": [],
      "source": [
        "img = []\n",
        "lab = []\n",
        "for images, labels in loaders['test']:\n",
        "  img.append(images)\n",
        "  lab.append(labels)"
      ]
    },
    {
      "cell_type": "code",
      "execution_count": 25,
      "metadata": {
        "id": "och3jDn9CMUY"
      },
      "outputs": [],
      "source": [
        "def fgsm_attack(epsilon, index):\n",
        "    \n",
        "    # Generate the adversarial example\n",
        "    perturbed_image = fgsm(img[index], model, epsilon).squeeze(0)\n",
        "    perturbed_image = perturbed_image.unsqueeze(0)\n",
        "\n",
        "    return perturbed_image"
      ]
    },
    {
      "cell_type": "code",
      "execution_count": 26,
      "metadata": {
        "colab": {
          "base_uri": "https://localhost:8080/",
          "height": 219
        },
        "id": "K6mVHvSouaYy",
        "outputId": "b372f2a0-4244-4dc2-ac04-4d7184ad69ce"
      },
      "outputs": [
        {
          "output_type": "display_data",
          "data": {
            "text/plain": [
              "<Figure size 432x288 with 2 Axes>"
            ],
            "image/png": "[encoded data removed]"
          },
          "metadata": {}
        }
      ],
      "source": [
        "# Get a random image from the test dataset\n",
        "index = random.randint(0, len(test_dataset) - 1)\n",
        "epsilon = 0.15\n",
        "\n",
        "perturbed_image = fgsm_attack(epsilon, index)\n",
        "# Plot the original and perturbed images\n",
        "fig, axs = plt.subplots(1, 2)\n",
        "with torch.no_grad(): \n",
        "    axs[0].imshow(img[index].squeeze(), cmap='gray')\n",
        "    axs[0].set_title(f\"Label: {lab[index]}\")\n",
        "    axs[1].imshow(perturbed_image.squeeze(), cmap='gray')\n",
        "    axs[1].set_title(\"Adversarial Example\")\n",
        "plt.show()"
      ]
    },
    {
      "cell_type": "code",
      "execution_count": 27,
      "metadata": {
        "colab": {
          "base_uri": "https://localhost:8080/"
        },
        "id": "b1VJLHkU2qDI",
        "outputId": "27cc71eb-ed24-4167-dc9c-7f8df62ce9da"
      },
      "outputs": [
        {
          "output_type": "stream",
          "name": "stdout",
          "text": [
            "Test :- tensor([[-12.9338, -12.3719,  -8.5549,   2.2139,  -8.7200,  10.1662,  -9.5347,\n",
            "          -8.0836,  -1.7515,  -4.5709]]) \n",
            "Perturb :- tensor([[-22.4645,  -9.0536, -10.4901,   2.8618,  -5.5764,  12.3790, -15.1419,\n",
            "          -7.4232,  -1.6989,  -3.1394]])\n"
          ]
        }
      ],
      "source": [
        "with torch.no_grad():\n",
        "    test_output, last_layer = model(img[index])\n",
        "    perturb_output, last_layer = model(perturbed_image)\n",
        "\n",
        "print(f\"Test :- {test_output} \\nPerturb :- {perturb_output}\")"
      ]
    },
    {
      "cell_type": "code",
      "execution_count": 28,
      "metadata": {
        "colab": {
          "base_uri": "https://localhost:8080/"
        },
        "id": "IShzaelOB-rL",
        "outputId": "adfd6c3a-466c-4902-db0b-462a8b396d93"
      },
      "outputs": [
        {
          "output_type": "stream",
          "name": "stdout",
          "text": [
            "11.5\n"
          ]
        }
      ],
      "source": [
        "cer_y = []\n",
        "cer_per = []\n",
        "pred = []\n",
        "count = 0\n",
        "itr = 200\n",
        "\n",
        "for i in range(itr):\n",
        "     a, x = model(img[i])\n",
        "     b, x = model(fgsm_attack(epsilon, i))\n",
        "     a = torch.max(a, 1)[1].data.squeeze()\n",
        "     b = torch.max(b, 1)[1].data.squeeze()\n",
        "     if a != b:\n",
        "         count += 1\n",
        "     unc_a,_,_,_,_ = uncertainty(model,img[i],lab[i])\n",
        "     unc_b,_,_,_,_ = uncertainty(model,fgsm_attack(0.15,i),lab[i])\n",
        "     unc_a = normalize(unc_a)\n",
        "     unc_b = normalize(unc_b)\n",
        "     cer_y.append(unc_a[0, int(a)])\n",
        "     cer_per.append(unc_b[0, int(a)])\n",
        "     pred.append(a)\n",
        "print(count*100 / itr)"
      ]
    },
    {
      "cell_type": "code",
      "execution_count": 29,
      "metadata": {
        "colab": {
          "base_uri": "https://localhost:8080/",
          "height": 285
        },
        "id": "6xIK2nhH9kjO",
        "outputId": "66f993e8-ca43-40f6-f90d-3563c429acc0"
      },
      "outputs": [
        {
          "output_type": "execute_result",
          "data": {
            "text/plain": [
              "<matplotlib.collections.PathCollection at 0x7fd2c6fd3370>"
            ]
          },
          "metadata": {},
          "execution_count": 29
        },
        {
          "output_type": "display_data",
          "data": {
            "text/plain": [
              "<Figure size 432x288 with 1 Axes>"
            ],
            "image/png": "[encoded data removed]"
          },
          "metadata": {}
        }
      ],
      "source": [
        "plt.scatter(pred, cer_y, c='b', marker='x')\n",
        "plt.scatter(pred, cer_per, c='g', marker='o')"
      ]
    },
    {
      "cell_type": "code",
      "execution_count": 30,
      "metadata": {
        "id": "gdud3nlw4Mdo"
      },
      "outputs": [],
      "source": [
        "def lbfgs_attack(model, loss_fn, x, y, eps=0.1, max_iter=20):\n",
        "    # Set the model in evaluation mode\n",
        "    model.eval()\n",
        "    \n",
        "    # Create a copy of the input tensor as a starting point for the attack\n",
        "    x_adv = x.detach().clone().requires_grad_(True)\n",
        "\n",
        "    # Define the L-BFGS optimizer\n",
        "    optimizer = optim.LBFGS([x_adv], max_iter=max_iter)\n",
        "\n",
        "    # Define a closure function to compute the loss and gradient\n",
        "    def closure():\n",
        "        optimizer.zero_grad()\n",
        "        tmp,_ = model(x_adv)\n",
        "        loss = loss_fn(tmp, y)\n",
        "        loss.backward()\n",
        "        return loss\n",
        "\n",
        "    # Run the L-BFGS optimizer to generate the adversarial example\n",
        "    for i in range(max_iter):\n",
        "        # Compute the loss and gradient\n",
        "        loss = optimizer.step(closure)\n",
        "\n",
        "        # Clip the adversarial example to ensure it stays within the epsilon ball around the original example\n",
        "        delta = torch.clamp(x_adv - x, min=-eps, max=eps)\n",
        "        x_adv.data.copy_(torch.clamp(x + delta, min=0, max=1).data)\n",
        "\n",
        "    return x_adv"
      ]
    },
    {
      "cell_type": "code",
      "execution_count": 31,
      "metadata": {
        "id": "I-q-fH1Zzf_U"
      },
      "outputs": [],
      "source": [
        "x = img[index]\n",
        "y = lab[index]"
      ]
    },
    {
      "cell_type": "code",
      "execution_count": 32,
      "metadata": {
        "id": "HebqnYK0zvuP"
      },
      "outputs": [],
      "source": [
        "# Generate an adversarial example using L-BFGS attack\n",
        "x_adv = lbfgs_attack(model, loss_func, x, y, epsilon, max_iter=10)"
      ]
    },
    {
      "cell_type": "code",
      "execution_count": 33,
      "metadata": {
        "colab": {
          "base_uri": "https://localhost:8080/",
          "height": 219
        },
        "id": "z-5cRKua142b",
        "outputId": "eb6dd037-bc8b-4765-d61c-32bf2c001e62"
      },
      "outputs": [
        {
          "output_type": "display_data",
          "data": {
            "text/plain": [
              "<Figure size 432x288 with 2 Axes>"
            ],
            "image/png": "[encoded data removed]"
          },
          "metadata": {}
        }
      ],
      "source": [
        "perturbed_image = x_adv\n",
        "# Plot the original and perturbed images\n",
        "fig, axs = plt.subplots(1, 2)\n",
        "with torch.no_grad(): \n",
        "    axs[0].imshow(img[index].squeeze(), cmap='gray')\n",
        "    axs[0].set_title(f\"Label: {lab[index]}\")\n",
        "    axs[1].imshow(perturbed_image.squeeze(), cmap='gray')\n",
        "    axs[1].set_title(\"Adversarial Example\")\n",
        "plt.show()"
      ]
    },
    {
      "cell_type": "code",
      "execution_count": 34,
      "metadata": {
        "colab": {
          "base_uri": "https://localhost:8080/"
        },
        "id": "bcMpX0kA3rdS",
        "outputId": "dff1b211-c738-4dd1-d65e-4a44c7e4e198"
      },
      "outputs": [
        {
          "output_type": "stream",
          "name": "stdout",
          "text": [
            "Test :- tensor([[-12.9338, -12.3719,  -8.5549,   2.2139,  -8.7200,  10.1662,  -9.5347,\n",
            "          -8.0836,  -1.7515,  -4.5709]]) \n",
            "Perturb :- tensor([[-12.3667, -11.2376,  -8.1449,  -3.3381,  -8.6232,  12.9385,  -9.6500,\n",
            "          -6.7693,  -3.7982,  -4.9142]])\n"
          ]
        }
      ],
      "source": [
        "with torch.no_grad():\n",
        "    test_output, last_layer = model(img[index])\n",
        "    perturb_output, last_layer = model(perturbed_image)\n",
        "\n",
        "print(f\"Test :- {test_output} \\nPerturb :- {perturb_output}\")"
      ]
    },
    {
      "cell_type": "code",
      "execution_count": 35,
      "metadata": {
        "colab": {
          "base_uri": "https://localhost:8080/"
        },
        "id": "qz-PZrJD4dwh",
        "outputId": "a0f168cd-e124-4f9f-b723-023094b97da3"
      },
      "outputs": [
        {
          "output_type": "stream",
          "name": "stdout",
          "text": [
            "5.0\n"
          ]
        }
      ],
      "source": [
        "cer_y = []\n",
        "cer_per = []\n",
        "pred = []\n",
        "count = 0\n",
        "\n",
        "for i in range(itr):\n",
        "     a, x = model(img[i])\n",
        "     b, x = model(lbfgs_attack(model, loss_func, img[i], lab[i], eps=0.15, max_iter=10))\n",
        "     a = torch.max(a, 1)[1].data.squeeze()\n",
        "     b = torch.max(b, 1)[1].data.squeeze()\n",
        "     if a != b:\n",
        "         count += 1\n",
        "     unc_a,_,_,_,_ = uncertainty(model,img[i],lab[i])\n",
        "     unc_b,_,_,_,_ = uncertainty(model,lbfgs_attack(model, loss_func, img[i], lab[i], eps=0.15, max_iter=10),lab[i])\n",
        "     unc_a = normalize(unc_a)\n",
        "     unc_b = normalize(unc_b)\n",
        "     cer_y.append(unc_a[0, int(a)])\n",
        "     cer_per.append(unc_b[0, int(a)])\n",
        "     pred.append(a)\n",
        "\n",
        "print(count * 100 / itr)"
      ]
    },
    {
      "cell_type": "code",
      "execution_count": 36,
      "metadata": {
        "colab": {
          "base_uri": "https://localhost:8080/",
          "height": 285
        },
        "id": "_e_tSGq75Imr",
        "outputId": "6452d3cb-0b7e-431b-d9e4-0b73963e6889"
      },
      "outputs": [
        {
          "output_type": "execute_result",
          "data": {
            "text/plain": [
              "<matplotlib.collections.PathCollection at 0x7fd2ae6fd7c0>"
            ]
          },
          "metadata": {},
          "execution_count": 36
        },
        {
          "output_type": "display_data",
          "data": {
            "text/plain": [
              "<Figure size 432x288 with 1 Axes>"
            ],
            "image/png": "[encoded data removed]"
          },
          "metadata": {}
        }
      ],
      "source": [
        "plt.scatter(pred, cer_y, c='b', marker='x')\n",
        "plt.scatter(pred, cer_per, c='g', marker='o')"
      ]
    },
    {
      "cell_type": "code",
      "execution_count": 47,
      "metadata": {
        "id": "SqBx66MvQkE2"
      },
      "outputs": [],
      "source": [
        "def distance(x,y):\n",
        "  res=0\n",
        "  for i in range(28):\n",
        "    for j in range(28):\n",
        "      res+=(x[0][0][i][j]-y[0][0][i][j])**2\n",
        "  return res"
      ]
    },
    {
      "cell_type": "code",
      "execution_count": 48,
      "metadata": {
        "id": "UXwxAP0K8tHw"
      },
      "outputs": [],
      "source": [
        "def sen(x):\n",
        "    sen_image = []\n",
        "    x = x.squeeze()\n",
        "    for i in range (28):\n",
        "        var = []\n",
        "        for j in range (28):\n",
        "            n = 0\n",
        "            mu = 0\n",
        "            for k in range(-1,2,1):\n",
        "                for z in range (-1,2,1):\n",
        "                    if i+k>=28 or i+k<0 or j+z>=28 or j+z<0 :\n",
        "                        continue\n",
        "                    n += 1\n",
        "                    mu += x[i+k][j+z]\n",
        "            mu = mu/n\n",
        "            s = 0\n",
        "            for k in range(-1,2,1):\n",
        "                for z in range (-1,2,1):\n",
        "                    if i+k>=28 or i+k<0 or j+z>=28 or j+z<0 :\n",
        "                        continue\n",
        "                    s += (x[i+k][j+z]-mu)*(x[i+k][j+z]-mu)\n",
        "            s = s/n*n\n",
        "            s = math.sqrt(s)\n",
        "            if s == 0: \n",
        "                s = 0.0001\n",
        "            var.append(1/s)\n",
        "        sen_image.append(var)\n",
        "    return sen_image"
      ]
    },
    {
      "cell_type": "code",
      "execution_count": 49,
      "metadata": {
        "id": "C_nkjL7aA-Sy"
      },
      "outputs": [],
      "source": [
        "ans = sen(img[50])"
      ]
    },
    {
      "cell_type": "code",
      "execution_count": 50,
      "metadata": {
        "id": "Qfkx5mFjDcBS"
      },
      "outputs": [],
      "source": [
        "def gap(x,model,target,k=100):\n",
        "  output,_ = model(x)\n",
        "  m = nn.Softmax(dim=1)\n",
        "  output = m(output)\n",
        "  pt=output[0, target]\n",
        "  sum = 0\n",
        "  for i in range(10):\n",
        "      if i != target.item() :\n",
        "        sum += torch.exp(k*output[0, i])\n",
        "  return pt - torch.log(sum)/k"
      ]
    },
    {
      "cell_type": "code",
      "execution_count": 51,
      "metadata": {
        "id": "iTy6sbmK9nI7"
      },
      "outputs": [],
      "source": [
        "def perturb_priority(x,target,sensitivity):\n",
        "  perturb = []\n",
        "  delta = 0.1\n",
        "  #sensitivity=sen(x)\n",
        "  for i in range(28):\n",
        "    for j in range(28):\n",
        "        with torch.no_grad():\n",
        "            g_x = gap(x,model,target)\n",
        "            x[0][0][i][j] += torch.tensor(delta)\n",
        "            g_x_e = gap(x,model,target)\n",
        "            x[0][0][i][j] -= torch.tensor(delta)\n",
        "            grad = (g_x_e - g_x)/epsilon\n",
        "            perturb.append(grad/sensitivity[i][j])\n",
        "  return torch.tensor(perturb)"
      ]
    },
    {
      "cell_type": "code",
      "execution_count": 100,
      "metadata": {
        "id": "p14YEljFIStg"
      },
      "outputs": [],
      "source": [
        "def our_method(img,target,model,Dmax,delta,m):\n",
        "  D=0\n",
        "  while D<Dmax:\n",
        "    sensitivity=sen(img)\n",
        "    perturb_list=perturb_priority(img,target,sensitivity)\n",
        "    sorted_perturb,indices=torch.sort(perturb_list,descending=True)\n",
        "    with torch.no_grad():\n",
        "      for i in range(m):\n",
        "        x = indices[i]/28\n",
        "        y = indices[i]%28\n",
        "        x = x.item()\n",
        "        y = y.item()\n",
        "        x = int(x)\n",
        "        y = int(y)\n",
        "        z = torch.zeros(img.shape)\n",
        "        z[0][0][x][y] += torch.tensor(delta)\n",
        "        img = torch.add(img,z)\n",
        "        D += delta*sensitivity[x][y]\n",
        "  return img"
      ]
    },
    {
      "cell_type": "code",
      "execution_count": 118,
      "metadata": {
        "id": "GKWRj-kFL6EC"
      },
      "outputs": [],
      "source": [
        "y = our_method(img[0],lab[0],model,2000,0.15,50)"
      ]
    },
    {
      "cell_type": "code",
      "execution_count": 126,
      "metadata": {
        "colab": {
          "base_uri": "https://localhost:8080/"
        },
        "id": "fSfOUBchSudH",
        "outputId": "f8e8478a-5f12-4aa8-ecac-c01e413edcfb"
      },
      "outputs": [
        {
          "output_type": "stream",
          "name": "stdout",
          "text": [
            "Test :- tensor([[ -7.1360,  -5.2184,  -6.2285,  -6.9734,   8.8788, -11.9075, -12.7995,\n",
            "          -3.2879,  -4.3588,  -1.8443]]) \n",
            "Perturb :- tensor([[-12.1943,  -6.2902, -15.5844, -14.4789,   9.1843,  -2.7090,  -9.1136,\n",
            "          -0.6736,  -3.4272,   3.7389]])\n"
          ]
        }
      ],
      "source": [
        "with torch.no_grad():\n",
        "    test_output, last_layer = model(img[0])\n",
        "    perturb_output, last_layer = model(perturbed_image)\n",
        "print(f\"Test :- {test_output} \\nPerturb :- {perturb_output}\")"
      ]
    },
    {
      "cell_type": "code",
      "execution_count": 127,
      "metadata": {
        "colab": {
          "base_uri": "https://localhost:8080/",
          "height": 219
        },
        "id": "CfvT8xU0MCvt",
        "outputId": "cb343ba9-1e11-4c3a-92c8-7b37be499e19"
      },
      "outputs": [
        {
          "output_type": "display_data",
          "data": {
            "text/plain": [
              "<Figure size 432x288 with 2 Axes>"
            ],
            "image/png": "[encoded data removed]"
          },
          "metadata": {}
        }
      ],
      "source": [
        "perturbed_image = y\n",
        "perturbed_label = torch.max(perturb_output, 1)[1].data.squeeze()\n",
        "# Plot the original and perturbed images\n",
        "fig, axs = plt.subplots(1, 2)\n",
        "with torch.no_grad(): \n",
        "    axs[0].imshow(img[0].squeeze(), cmap='gray')\n",
        "    axs[0].set_title(f\"Label: {lab[0]}\")\n",
        "    axs[1].imshow(perturbed_image.squeeze(), cmap='gray')\n",
        "    axs[1].set_title(f\"Adversarial Example {perturbed_label}\")\n",
        "plt.show()"
      ]
    }
  ],
  "metadata": {
    "accelerator": "GPU",
    "colab": {
      "provenance": []
    },
    "gpuClass": "standard",
    "kernelspec": {
      "display_name": "Python 3",
      "name": "python3"
    },
    "language_info": {
      "name": "python"
    },
    "widgets": {
      "application/vnd.jupyter.widget-state+json": {
        "af283a33b42c493cb2142da207b8017c": {
          "model_module": "@jupyter-widgets/controls",
          "model_name": "HBoxModel",
          "model_module_version": "1.5.0",
          "state": {
            "_dom_classes": [],
            "_model_module": "@jupyter-widgets/controls",
            "_model_module_version": "1.5.0",
            "_model_name": "HBoxModel",
            "_view_count": null,
            "_view_module": "@jupyter-widgets/controls",
            "_view_module_version": "1.5.0",
            "_view_name": "HBoxView",
            "box_style": "",
            "children": [
              "IPY_MODEL_493411ce0f3845808184a5d63f75bca9",
              "IPY_MODEL_98e146d2727c47f3a17e2a2551451c6c",
              "IPY_MODEL_8d614b34a58347f58a289817428b523e"
            ],
            "layout": "IPY_MODEL_ed54a1fcccb64212aa8441cca9969c50"
          }
        },
        "493411ce0f3845808184a5d63f75bca9": {
          "model_module": "@jupyter-widgets/controls",
          "model_name": "HTMLModel",
          "model_module_version": "1.5.0",
          "state": {
            "_dom_classes": [],
            "_model_module": "@jupyter-widgets/controls",
            "_model_module_version": "1.5.0",
            "_model_name": "HTMLModel",
            "_view_count": null,
            "_view_module": "@jupyter-widgets/controls",
            "_view_module_version": "1.5.0",
            "_view_name": "HTMLView",
            "description": "",
            "description_tooltip": null,
            "layout": "IPY_MODEL_e7c6b2b8488e4802b486b9b3cc8ad20d",
            "placeholder": "​",
            "style": "IPY_MODEL_63ebd194a4414b199dc07c893e86c60b",
            "value": "100%"
          }
        },
        "98e146d2727c47f3a17e2a2551451c6c": {
          "model_module": "@jupyter-widgets/controls",
          "model_name": "FloatProgressModel",
          "model_module_version": "1.5.0",
          "state": {
            "_dom_classes": [],
            "_model_module": "@jupyter-widgets/controls",
            "_model_module_version": "1.5.0",
            "_model_name": "FloatProgressModel",
            "_view_count": null,
            "_view_module": "@jupyter-widgets/controls",
            "_view_module_version": "1.5.0",
            "_view_name": "ProgressView",
            "bar_style": "success",
            "description": "",
            "description_tooltip": null,
            "layout": "IPY_MODEL_cb31b5d510af46109554a9cee6a3bd7b",
            "max": 9912422,
            "min": 0,
            "orientation": "horizontal",
            "style": "IPY_MODEL_caf9d18d5aba4ae3a079ae76f9545315",
            "value": 9912422
          }
        },
        "8d614b34a58347f58a289817428b523e": {
          "model_module": "@jupyter-widgets/controls",
          "model_name": "HTMLModel",
          "model_module_version": "1.5.0",
          "state": {
            "_dom_classes": [],
            "_model_module": "@jupyter-widgets/controls",
            "_model_module_version": "1.5.0",
            "_model_name": "HTMLModel",
            "_view_count": null,
            "_view_module": "@jupyter-widgets/controls",
            "_view_module_version": "1.5.0",
            "_view_name": "HTMLView",
            "description": "",
            "description_tooltip": null,
            "layout": "IPY_MODEL_a0b7478090104b37befaa3ba7d60005f",
            "placeholder": "​",
            "style": "IPY_MODEL_e667143f425343e282a0e5e789581cd8",
            "value": " 9912422/9912422 [00:00&lt;00:00, 86288707.37it/s]"
          }
        },
        "ed54a1fcccb64212aa8441cca9969c50": {
          "model_module": "@jupyter-widgets/base",
          "model_name": "LayoutModel",
          "model_module_version": "1.2.0",
          "state": {
            "_model_module": "@jupyter-widgets/base",
            "_model_module_version": "1.2.0",
            "_model_name": "LayoutModel",
            "_view_count": null,
            "_view_module": "@jupyter-widgets/base",
            "_view_module_version": "1.2.0",
            "_view_name": "LayoutView",
            "align_content": null,
            "align_items": null,
            "align_self": null,
            "border": null,
            "bottom": null,
            "display": null,
            "flex": null,
            "flex_flow": null,
            "grid_area": null,
            "grid_auto_columns": null,
            "grid_auto_flow": null,
            "grid_auto_rows": null,
            "grid_column": null,
            "grid_gap": null,
            "grid_row": null,
            "grid_template_areas": null,
            "grid_template_columns": null,
            "grid_template_rows": null,
            "height": null,
            "justify_content": null,
            "justify_items": null,
            "left": null,
            "margin": null,
            "max_height": null,
            "max_width": null,
            "min_height": null,
            "min_width": null,
            "object_fit": null,
            "object_position": null,
            "order": null,
            "overflow": null,
            "overflow_x": null,
            "overflow_y": null,
            "padding": null,
            "right": null,
            "top": null,
            "visibility": null,
            "width": null
          }
        },
        "e7c6b2b8488e4802b486b9b3cc8ad20d": {
          "model_module": "@jupyter-widgets/base",
          "model_name": "LayoutModel",
          "model_module_version": "1.2.0",
          "state": {
            "_model_module": "@jupyter-widgets/base",
            "_model_module_version": "1.2.0",
            "_model_name": "LayoutModel",
            "_view_count": null,
            "_view_module": "@jupyter-widgets/base",
            "_view_module_version": "1.2.0",
            "_view_name": "LayoutView",
            "align_content": null,
            "align_items": null,
            "align_self": null,
            "border": null,
            "bottom": null,
            "display": null,
            "flex": null,
            "flex_flow": null,
            "grid_area": null,
            "grid_auto_columns": null,
            "grid_auto_flow": null,
            "grid_auto_rows": null,
            "grid_column": null,
            "grid_gap": null,
            "grid_row": null,
            "grid_template_areas": null,
            "grid_template_columns": null,
            "grid_template_rows": null,
            "height": null,
            "justify_content": null,
            "justify_items": null,
            "left": null,
            "margin": null,
            "max_height": null,
            "max_width": null,
            "min_height": null,
            "min_width": null,
            "object_fit": null,
            "object_position": null,
            "order": null,
            "overflow": null,
            "overflow_x": null,
            "overflow_y": null,
            "padding": null,
            "right": null,
            "top": null,
            "visibility": null,
            "width": null
          }
        },
        "63ebd194a4414b199dc07c893e86c60b": {
          "model_module": "@jupyter-widgets/controls",
          "model_name": "DescriptionStyleModel",
          "model_module_version": "1.5.0",
          "state": {
            "_model_module": "@jupyter-widgets/controls",
            "_model_module_version": "1.5.0",
            "_model_name": "DescriptionStyleModel",
            "_view_count": null,
            "_view_module": "@jupyter-widgets/base",
            "_view_module_version": "1.2.0",
            "_view_name": "StyleView",
            "description_width": ""
          }
        },
        "cb31b5d510af46109554a9cee6a3bd7b": {
          "model_module": "@jupyter-widgets/base",
          "model_name": "LayoutModel",
          "model_module_version": "1.2.0",
          "state": {
            "_model_module": "@jupyter-widgets/base",
            "_model_module_version": "1.2.0",
            "_model_name": "LayoutModel",
            "_view_count": null,
            "_view_module": "@jupyter-widgets/base",
            "_view_module_version": "1.2.0",
            "_view_name": "LayoutView",
            "align_content": null,
            "align_items": null,
            "align_self": null,
            "border": null,
            "bottom": null,
            "display": null,
            "flex": null,
            "flex_flow": null,
            "grid_area": null,
            "grid_auto_columns": null,
            "grid_auto_flow": null,
            "grid_auto_rows": null,
            "grid_column": null,
            "grid_gap": null,
            "grid_row": null,
            "grid_template_areas": null,
            "grid_template_columns": null,
            "grid_template_rows": null,
            "height": null,
            "justify_content": null,
            "justify_items": null,
            "left": null,
            "margin": null,
            "max_height": null,
            "max_width": null,
            "min_height": null,
            "min_width": null,
            "object_fit": null,
            "object_position": null,
            "order": null,
            "overflow": null,
            "overflow_x": null,
            "overflow_y": null,
            "padding": null,
            "right": null,
            "top": null,
            "visibility": null,
            "width": null
          }
        },
        "caf9d18d5aba4ae3a079ae76f9545315": {
          "model_module": "@jupyter-widgets/controls",
          "model_name": "ProgressStyleModel",
          "model_module_version": "1.5.0",
          "state": {
            "_model_module": "@jupyter-widgets/controls",
            "_model_module_version": "1.5.0",
            "_model_name": "ProgressStyleModel",
            "_view_count": null,
            "_view_module": "@jupyter-widgets/base",
            "_view_module_version": "1.2.0",
            "_view_name": "StyleView",
            "bar_color": null,
            "description_width": ""
          }
        },
        "a0b7478090104b37befaa3ba7d60005f": {
          "model_module": "@jupyter-widgets/base",
          "model_name": "LayoutModel",
          "model_module_version": "1.2.0",
          "state": {
            "_model_module": "@jupyter-widgets/base",
            "_model_module_version": "1.2.0",
            "_model_name": "LayoutModel",
            "_view_count": null,
            "_view_module": "@jupyter-widgets/base",
            "_view_module_version": "1.2.0",
            "_view_name": "LayoutView",
            "align_content": null,
            "align_items": null,
            "align_self": null,
            "border": null,
            "bottom": null,
            "display": null,
            "flex": null,
            "flex_flow": null,
            "grid_area": null,
            "grid_auto_columns": null,
            "grid_auto_flow": null,
            "grid_auto_rows": null,
            "grid_column": null,
            "grid_gap": null,
            "grid_row": null,
            "grid_template_areas": null,
            "grid_template_columns": null,
            "grid_template_rows": null,
            "height": null,
            "justify_content": null,
            "justify_items": null,
            "left": null,
            "margin": null,
            "max_height": null,
            "max_width": null,
            "min_height": null,
            "min_width": null,
            "object_fit": null,
            "object_position": null,
            "order": null,
            "overflow": null,
            "overflow_x": null,
            "overflow_y": null,
            "padding": null,
            "right": null,
            "top": null,
            "visibility": null,
            "width": null
          }
        },
        "e667143f425343e282a0e5e789581cd8": {
          "model_module": "@jupyter-widgets/controls",
          "model_name": "DescriptionStyleModel",
          "model_module_version": "1.5.0",
          "state": {
            "_model_module": "@jupyter-widgets/controls",
            "_model_module_version": "1.5.0",
            "_model_name": "DescriptionStyleModel",
            "_view_count": null,
            "_view_module": "@jupyter-widgets/base",
            "_view_module_version": "1.2.0",
            "_view_name": "StyleView",
            "description_width": ""
          }
        },
        "b3901d80a6f14e1d9f0fadd294f7a4ee": {
          "model_module": "@jupyter-widgets/controls",
          "model_name": "HBoxModel",
          "model_module_version": "1.5.0",
          "state": {
            "_dom_classes": [],
            "_model_module": "@jupyter-widgets/controls",
            "_model_module_version": "1.5.0",
            "_model_name": "HBoxModel",
            "_view_count": null,
            "_view_module": "@jupyter-widgets/controls",
            "_view_module_version": "1.5.0",
            "_view_name": "HBoxView",
            "box_style": "",
            "children": [
              "IPY_MODEL_0c0882659f3945d49280fefd97cb46ea",
              "IPY_MODEL_49fc7ed8929a4fe898995182e0d055b3",
              "IPY_MODEL_29a129e385794a8c84a6096275679b28"
            ],
            "layout": "IPY_MODEL_e8a48bb55472464d818b74916042ab39"
          }
        },
        "0c0882659f3945d49280fefd97cb46ea": {
          "model_module": "@jupyter-widgets/controls",
          "model_name": "HTMLModel",
          "model_module_version": "1.5.0",
          "state": {
            "_dom_classes": [],
            "_model_module": "@jupyter-widgets/controls",
            "_model_module_version": "1.5.0",
            "_model_name": "HTMLModel",
            "_view_count": null,
            "_view_module": "@jupyter-widgets/controls",
            "_view_module_version": "1.5.0",
            "_view_name": "HTMLView",
            "description": "",
            "description_tooltip": null,
            "layout": "IPY_MODEL_4522077d92d3430691cb0d23e7f1f38e",
            "placeholder": "​",
            "style": "IPY_MODEL_cbcc644d0cfa4f5bac44790641b06aec",
            "value": "100%"
          }
        },
        "49fc7ed8929a4fe898995182e0d055b3": {
          "model_module": "@jupyter-widgets/controls",
          "model_name": "FloatProgressModel",
          "model_module_version": "1.5.0",
          "state": {
            "_dom_classes": [],
            "_model_module": "@jupyter-widgets/controls",
            "_model_module_version": "1.5.0",
            "_model_name": "FloatProgressModel",
            "_view_count": null,
            "_view_module": "@jupyter-widgets/controls",
            "_view_module_version": "1.5.0",
            "_view_name": "ProgressView",
            "bar_style": "success",
            "description": "",
            "description_tooltip": null,
            "layout": "IPY_MODEL_5aa6e1d7bce140bd8b61caabbe538e42",
            "max": 28881,
            "min": 0,
            "orientation": "horizontal",
            "style": "IPY_MODEL_03e044732e1148a2a7ee13460a0c1cca",
            "value": 28881
          }
        },
        "29a129e385794a8c84a6096275679b28": {
          "model_module": "@jupyter-widgets/controls",
          "model_name": "HTMLModel",
          "model_module_version": "1.5.0",
          "state": {
            "_dom_classes": [],
            "_model_module": "@jupyter-widgets/controls",
            "_model_module_version": "1.5.0",
            "_model_name": "HTMLModel",
            "_view_count": null,
            "_view_module": "@jupyter-widgets/controls",
            "_view_module_version": "1.5.0",
            "_view_name": "HTMLView",
            "description": "",
            "description_tooltip": null,
            "layout": "IPY_MODEL_6c644db1909d44a8a228fedde355735e",
            "placeholder": "​",
            "style": "IPY_MODEL_8ce716b555954baf99c8c84291f997a9",
            "value": " 28881/28881 [00:00&lt;00:00, 1000575.67it/s]"
          }
        },
        "e8a48bb55472464d818b74916042ab39": {
          "model_module": "@jupyter-widgets/base",
          "model_name": "LayoutModel",
          "model_module_version": "1.2.0",
          "state": {
            "_model_module": "@jupyter-widgets/base",
            "_model_module_version": "1.2.0",
            "_model_name": "LayoutModel",
            "_view_count": null,
            "_view_module": "@jupyter-widgets/base",
            "_view_module_version": "1.2.0",
            "_view_name": "LayoutView",
            "align_content": null,
            "align_items": null,
            "align_self": null,
            "border": null,
            "bottom": null,
            "display": null,
            "flex": null,
            "flex_flow": null,
            "grid_area": null,
            "grid_auto_columns": null,
            "grid_auto_flow": null,
            "grid_auto_rows": null,
            "grid_column": null,
            "grid_gap": null,
            "grid_row": null,
            "grid_template_areas": null,
            "grid_template_columns": null,
            "grid_template_rows": null,
            "height": null,
            "justify_content": null,
            "justify_items": null,
            "left": null,
            "margin": null,
            "max_height": null,
            "max_width": null,
            "min_height": null,
            "min_width": null,
            "object_fit": null,
            "object_position": null,
            "order": null,
            "overflow": null,
            "overflow_x": null,
            "overflow_y": null,
            "padding": null,
            "right": null,
            "top": null,
            "visibility": null,
            "width": null
          }
        },
        "4522077d92d3430691cb0d23e7f1f38e": {
          "model_module": "@jupyter-widgets/base",
          "model_name": "LayoutModel",
          "model_module_version": "1.2.0",
          "state": {
            "_model_module": "@jupyter-widgets/base",
            "_model_module_version": "1.2.0",
            "_model_name": "LayoutModel",
            "_view_count": null,
            "_view_module": "@jupyter-widgets/base",
            "_view_module_version": "1.2.0",
            "_view_name": "LayoutView",
            "align_content": null,
            "align_items": null,
            "align_self": null,
            "border": null,
            "bottom": null,
            "display": null,
            "flex": null,
            "flex_flow": null,
            "grid_area": null,
            "grid_auto_columns": null,
            "grid_auto_flow": null,
            "grid_auto_rows": null,
            "grid_column": null,
            "grid_gap": null,
            "grid_row": null,
            "grid_template_areas": null,
            "grid_template_columns": null,
            "grid_template_rows": null,
            "height": null,
            "justify_content": null,
            "justify_items": null,
            "left": null,
            "margin": null,
            "max_height": null,
            "max_width": null,
            "min_height": null,
            "min_width": null,
            "object_fit": null,
            "object_position": null,
            "order": null,
            "overflow": null,
            "overflow_x": null,
            "overflow_y": null,
            "padding": null,
            "right": null,
            "top": null,
            "visibility": null,
            "width": null
          }
        },
        "cbcc644d0cfa4f5bac44790641b06aec": {
          "model_module": "@jupyter-widgets/controls",
          "model_name": "DescriptionStyleModel",
          "model_module_version": "1.5.0",
          "state": {
            "_model_module": "@jupyter-widgets/controls",
            "_model_module_version": "1.5.0",
            "_model_name": "DescriptionStyleModel",
            "_view_count": null,
            "_view_module": "@jupyter-widgets/base",
            "_view_module_version": "1.2.0",
            "_view_name": "StyleView",
            "description_width": ""
          }
        },
        "5aa6e1d7bce140bd8b61caabbe538e42": {
          "model_module": "@jupyter-widgets/base",
          "model_name": "LayoutModel",
          "model_module_version": "1.2.0",
          "state": {
            "_model_module": "@jupyter-widgets/base",
            "_model_module_version": "1.2.0",
            "_model_name": "LayoutModel",
            "_view_count": null,
            "_view_module": "@jupyter-widgets/base",
            "_view_module_version": "1.2.0",
            "_view_name": "LayoutView",
            "align_content": null,
            "align_items": null,
            "align_self": null,
            "border": null,
            "bottom": null,
            "display": null,
            "flex": null,
            "flex_flow": null,
            "grid_area": null,
            "grid_auto_columns": null,
            "grid_auto_flow": null,
            "grid_auto_rows": null,
            "grid_column": null,
            "grid_gap": null,
            "grid_row": null,
            "grid_template_areas": null,
            "grid_template_columns": null,
            "grid_template_rows": null,
            "height": null,
            "justify_content": null,
            "justify_items": null,
            "left": null,
            "margin": null,
            "max_height": null,
            "max_width": null,
            "min_height": null,
            "min_width": null,
            "object_fit": null,
            "object_position": null,
            "order": null,
            "overflow": null,
            "overflow_x": null,
            "overflow_y": null,
            "padding": null,
            "right": null,
            "top": null,
            "visibility": null,
            "width": null
          }
        },
        "03e044732e1148a2a7ee13460a0c1cca": {
          "model_module": "@jupyter-widgets/controls",
          "model_name": "ProgressStyleModel",
          "model_module_version": "1.5.0",
          "state": {
            "_model_module": "@jupyter-widgets/controls",
            "_model_module_version": "1.5.0",
            "_model_name": "ProgressStyleModel",
            "_view_count": null,
            "_view_module": "@jupyter-widgets/base",
            "_view_module_version": "1.2.0",
            "_view_name": "StyleView",
            "bar_color": null,
            "description_width": ""
          }
        },
        "6c644db1909d44a8a228fedde355735e": {
          "model_module": "@jupyter-widgets/base",
          "model_name": "LayoutModel",
          "model_module_version": "1.2.0",
          "state": {
            "_model_module": "@jupyter-widgets/base",
            "_model_module_version": "1.2.0",
            "_model_name": "LayoutModel",
            "_view_count": null,
            "_view_module": "@jupyter-widgets/base",
            "_view_module_version": "1.2.0",
            "_view_name": "LayoutView",
            "align_content": null,
            "align_items": null,
            "align_self": null,
            "border": null,
            "bottom": null,
            "display": null,
            "flex": null,
            "flex_flow": null,
            "grid_area": null,
            "grid_auto_columns": null,
            "grid_auto_flow": null,
            "grid_auto_rows": null,
            "grid_column": null,
            "grid_gap": null,
            "grid_row": null,
            "grid_template_areas": null,
            "grid_template_columns": null,
            "grid_template_rows": null,
            "height": null,
            "justify_content": null,
            "justify_items": null,
            "left": null,
            "margin": null,
            "max_height": null,
            "max_width": null,
            "min_height": null,
            "min_width": null,
            "object_fit": null,
            "object_position": null,
            "order": null,
            "overflow": null,
            "overflow_x": null,
            "overflow_y": null,
            "padding": null,
            "right": null,
            "top": null,
            "visibility": null,
            "width": null
          }
        },
        "8ce716b555954baf99c8c84291f997a9": {
          "model_module": "@jupyter-widgets/controls",
          "model_name": "DescriptionStyleModel",
          "model_module_version": "1.5.0",
          "state": {
            "_model_module": "@jupyter-widgets/controls",
            "_model_module_version": "1.5.0",
            "_model_name": "DescriptionStyleModel",
            "_view_count": null,
            "_view_module": "@jupyter-widgets/base",
            "_view_module_version": "1.2.0",
            "_view_name": "StyleView",
            "description_width": ""
          }
        },
        "ab050f283e1d4de98172be9db81c6d78": {
          "model_module": "@jupyter-widgets/controls",
          "model_name": "HBoxModel",
          "model_module_version": "1.5.0",
          "state": {
            "_dom_classes": [],
            "_model_module": "@jupyter-widgets/controls",
            "_model_module_version": "1.5.0",
            "_model_name": "HBoxModel",
            "_view_count": null,
            "_view_module": "@jupyter-widgets/controls",
            "_view_module_version": "1.5.0",
            "_view_name": "HBoxView",
            "box_style": "",
            "children": [
              "IPY_MODEL_6c8440e22b304d409e298b24e2824f9f",
              "IPY_MODEL_aef5539f5c02449597198e44373a1a96",
              "IPY_MODEL_09dd9ddd34cb451fbfd00c0b912c4eb3"
            ],
            "layout": "IPY_MODEL_99e205272d1e4104b717a4890b4844a2"
          }
        },
        "6c8440e22b304d409e298b24e2824f9f": {
          "model_module": "@jupyter-widgets/controls",
          "model_name": "HTMLModel",
          "model_module_version": "1.5.0",
          "state": {
            "_dom_classes": [],
            "_model_module": "@jupyter-widgets/controls",
            "_model_module_version": "1.5.0",
            "_model_name": "HTMLModel",
            "_view_count": null,
            "_view_module": "@jupyter-widgets/controls",
            "_view_module_version": "1.5.0",
            "_view_name": "HTMLView",
            "description": "",
            "description_tooltip": null,
            "layout": "IPY_MODEL_886c13cf9bb84ebd855c014cde48d77b",
            "placeholder": "​",
            "style": "IPY_MODEL_987a6dbfe8f04e02ab2d8cc1d73d7fbb",
            "value": "100%"
          }
        },
        "aef5539f5c02449597198e44373a1a96": {
          "model_module": "@jupyter-widgets/controls",
          "model_name": "FloatProgressModel",
          "model_module_version": "1.5.0",
          "state": {
            "_dom_classes": [],
            "_model_module": "@jupyter-widgets/controls",
            "_model_module_version": "1.5.0",
            "_model_name": "FloatProgressModel",
            "_view_count": null,
            "_view_module": "@jupyter-widgets/controls",
            "_view_module_version": "1.5.0",
            "_view_name": "ProgressView",
            "bar_style": "success",
            "description": "",
            "description_tooltip": null,
            "layout": "IPY_MODEL_6fa410e5a72449faba4906b9b470b081",
            "max": 1648877,
            "min": 0,
            "orientation": "horizontal",
            "style": "IPY_MODEL_2a57c2e390e24b1ab9af0804dcc53c7e",
            "value": 1648877
          }
        },
        "09dd9ddd34cb451fbfd00c0b912c4eb3": {
          "model_module": "@jupyter-widgets/controls",
          "model_name": "HTMLModel",
          "model_module_version": "1.5.0",
          "state": {
            "_dom_classes": [],
            "_model_module": "@jupyter-widgets/controls",
            "_model_module_version": "1.5.0",
            "_model_name": "HTMLModel",
            "_view_count": null,
            "_view_module": "@jupyter-widgets/controls",
            "_view_module_version": "1.5.0",
            "_view_name": "HTMLView",
            "description": "",
            "description_tooltip": null,
            "layout": "IPY_MODEL_675680587d204b8391fc11f8fa435abd",
            "placeholder": "​",
            "style": "IPY_MODEL_2f1115ecfc3143c3801e5e852f458a86",
            "value": " 1648877/1648877 [00:00&lt;00:00, 28588341.25it/s]"
          }
        },
        "99e205272d1e4104b717a4890b4844a2": {
          "model_module": "@jupyter-widgets/base",
          "model_name": "LayoutModel",
          "model_module_version": "1.2.0",
          "state": {
            "_model_module": "@jupyter-widgets/base",
            "_model_module_version": "1.2.0",
            "_model_name": "LayoutModel",
            "_view_count": null,
            "_view_module": "@jupyter-widgets/base",
            "_view_module_version": "1.2.0",
            "_view_name": "LayoutView",
            "align_content": null,
            "align_items": null,
            "align_self": null,
            "border": null,
            "bottom": null,
            "display": null,
            "flex": null,
            "flex_flow": null,
            "grid_area": null,
            "grid_auto_columns": null,
            "grid_auto_flow": null,
            "grid_auto_rows": null,
            "grid_column": null,
            "grid_gap": null,
            "grid_row": null,
            "grid_template_areas": null,
            "grid_template_columns": null,
            "grid_template_rows": null,
            "height": null,
            "justify_content": null,
            "justify_items": null,
            "left": null,
            "margin": null,
            "max_height": null,
            "max_width": null,
            "min_height": null,
            "min_width": null,
            "object_fit": null,
            "object_position": null,
            "order": null,
            "overflow": null,
            "overflow_x": null,
            "overflow_y": null,
            "padding": null,
            "right": null,
            "top": null,
            "visibility": null,
            "width": null
          }
        },
        "886c13cf9bb84ebd855c014cde48d77b": {
          "model_module": "@jupyter-widgets/base",
          "model_name": "LayoutModel",
          "model_module_version": "1.2.0",
          "state": {
            "_model_module": "@jupyter-widgets/base",
            "_model_module_version": "1.2.0",
            "_model_name": "LayoutModel",
            "_view_count": null,
            "_view_module": "@jupyter-widgets/base",
            "_view_module_version": "1.2.0",
            "_view_name": "LayoutView",
            "align_content": null,
            "align_items": null,
            "align_self": null,
            "border": null,
            "bottom": null,
            "display": null,
            "flex": null,
            "flex_flow": null,
            "grid_area": null,
            "grid_auto_columns": null,
            "grid_auto_flow": null,
            "grid_auto_rows": null,
            "grid_column": null,
            "grid_gap": null,
            "grid_row": null,
            "grid_template_areas": null,
            "grid_template_columns": null,
            "grid_template_rows": null,
            "height": null,
            "justify_content": null,
            "justify_items": null,
            "left": null,
            "margin": null,
            "max_height": null,
            "max_width": null,
            "min_height": null,
            "min_width": null,
            "object_fit": null,
            "object_position": null,
            "order": null,
            "overflow": null,
            "overflow_x": null,
            "overflow_y": null,
            "padding": null,
            "right": null,
            "top": null,
            "visibility": null,
            "width": null
          }
        },
        "987a6dbfe8f04e02ab2d8cc1d73d7fbb": {
          "model_module": "@jupyter-widgets/controls",
          "model_name": "DescriptionStyleModel",
          "model_module_version": "1.5.0",
          "state": {
            "_model_module": "@jupyter-widgets/controls",
            "_model_module_version": "1.5.0",
            "_model_name": "DescriptionStyleModel",
            "_view_count": null,
            "_view_module": "@jupyter-widgets/base",
            "_view_module_version": "1.2.0",
            "_view_name": "StyleView",
            "description_width": ""
          }
        },
        "6fa410e5a72449faba4906b9b470b081": {
          "model_module": "@jupyter-widgets/base",
          "model_name": "LayoutModel",
          "model_module_version": "1.2.0",
          "state": {
            "_model_module": "@jupyter-widgets/base",
            "_model_module_version": "1.2.0",
            "_model_name": "LayoutModel",
            "_view_count": null,
            "_view_module": "@jupyter-widgets/base",
            "_view_module_version": "1.2.0",
            "_view_name": "LayoutView",
            "align_content": null,
            "align_items": null,
            "align_self": null,
            "border": null,
            "bottom": null,
            "display": null,
            "flex": null,
            "flex_flow": null,
            "grid_area": null,
            "grid_auto_columns": null,
            "grid_auto_flow": null,
            "grid_auto_rows": null,
            "grid_column": null,
            "grid_gap": null,
            "grid_row": null,
            "grid_template_areas": null,
            "grid_template_columns": null,
            "grid_template_rows": null,
            "height": null,
            "justify_content": null,
            "justify_items": null,
            "left": null,
            "margin": null,
            "max_height": null,
            "max_width": null,
            "min_height": null,
            "min_width": null,
            "object_fit": null,
            "object_position": null,
            "order": null,
            "overflow": null,
            "overflow_x": null,
            "overflow_y": null,
            "padding": null,
            "right": null,
            "top": null,
            "visibility": null,
            "width": null
          }
        },
        "2a57c2e390e24b1ab9af0804dcc53c7e": {
          "model_module": "@jupyter-widgets/controls",
          "model_name": "ProgressStyleModel",
          "model_module_version": "1.5.0",
          "state": {
            "_model_module": "@jupyter-widgets/controls",
            "_model_module_version": "1.5.0",
            "_model_name": "ProgressStyleModel",
            "_view_count": null,
            "_view_module": "@jupyter-widgets/base",
            "_view_module_version": "1.2.0",
            "_view_name": "StyleView",
            "bar_color": null,
            "description_width": ""
          }
        },
        "675680587d204b8391fc11f8fa435abd": {
          "model_module": "@jupyter-widgets/base",
          "model_name": "LayoutModel",
          "model_module_version": "1.2.0",
          "state": {
            "_model_module": "@jupyter-widgets/base",
            "_model_module_version": "1.2.0",
            "_model_name": "LayoutModel",
            "_view_count": null,
            "_view_module": "@jupyter-widgets/base",
            "_view_module_version": "1.2.0",
            "_view_name": "LayoutView",
            "align_content": null,
            "align_items": null,
            "align_self": null,
            "border": null,
            "bottom": null,
            "display": null,
            "flex": null,
            "flex_flow": null,
            "grid_area": null,
            "grid_auto_columns": null,
            "grid_auto_flow": null,
            "grid_auto_rows": null,
            "grid_column": null,
            "grid_gap": null,
            "grid_row": null,
            "grid_template_areas": null,
            "grid_template_columns": null,
            "grid_template_rows": null,
            "height": null,
            "justify_content": null,
            "justify_items": null,
            "left": null,
            "margin": null,
            "max_height": null,
            "max_width": null,
            "min_height": null,
            "min_width": null,
            "object_fit": null,
            "object_position": null,
            "order": null,
            "overflow": null,
            "overflow_x": null,
            "overflow_y": null,
            "padding": null,
            "right": null,
            "top": null,
            "visibility": null,
            "width": null
          }
        },
        "2f1115ecfc3143c3801e5e852f458a86": {
          "model_module": "@jupyter-widgets/controls",
          "model_name": "DescriptionStyleModel",
          "model_module_version": "1.5.0",
          "state": {
            "_model_module": "@jupyter-widgets/controls",
            "_model_module_version": "1.5.0",
            "_model_name": "DescriptionStyleModel",
            "_view_count": null,
            "_view_module": "@jupyter-widgets/base",
            "_view_module_version": "1.2.0",
            "_view_name": "StyleView",
            "description_width": ""
          }
        },
        "82f9fb5661dd464184f9c91ede14197f": {
          "model_module": "@jupyter-widgets/controls",
          "model_name": "HBoxModel",
          "model_module_version": "1.5.0",
          "state": {
            "_dom_classes": [],
            "_model_module": "@jupyter-widgets/controls",
            "_model_module_version": "1.5.0",
            "_model_name": "HBoxModel",
            "_view_count": null,
            "_view_module": "@jupyter-widgets/controls",
            "_view_module_version": "1.5.0",
            "_view_name": "HBoxView",
            "box_style": "",
            "children": [
              "IPY_MODEL_75240c7617b94aa09db90cc778f92b70",
              "IPY_MODEL_cbe3986e26a74f37bed578ef3ffed6cc",
              "IPY_MODEL_2f72f681bed949058c9f5490d386fe98"
            ],
            "layout": "IPY_MODEL_172a3163220f4360b30fae3cb3a95d05"
          }
        },
        "75240c7617b94aa09db90cc778f92b70": {
          "model_module": "@jupyter-widgets/controls",
          "model_name": "HTMLModel",
          "model_module_version": "1.5.0",
          "state": {
            "_dom_classes": [],
            "_model_module": "@jupyter-widgets/controls",
            "_model_module_version": "1.5.0",
            "_model_name": "HTMLModel",
            "_view_count": null,
            "_view_module": "@jupyter-widgets/controls",
            "_view_module_version": "1.5.0",
            "_view_name": "HTMLView",
            "description": "",
            "description_tooltip": null,
            "layout": "IPY_MODEL_bbac173d05fa4130a804bea2bf68eaab",
            "placeholder": "​",
            "style": "IPY_MODEL_657e4f9d565543cab61fcc73693c097c",
            "value": "100%"
          }
        },
        "cbe3986e26a74f37bed578ef3ffed6cc": {
          "model_module": "@jupyter-widgets/controls",
          "model_name": "FloatProgressModel",
          "model_module_version": "1.5.0",
          "state": {
            "_dom_classes": [],
            "_model_module": "@jupyter-widgets/controls",
            "_model_module_version": "1.5.0",
            "_model_name": "FloatProgressModel",
            "_view_count": null,
            "_view_module": "@jupyter-widgets/controls",
            "_view_module_version": "1.5.0",
            "_view_name": "ProgressView",
            "bar_style": "success",
            "description": "",
            "description_tooltip": null,
            "layout": "IPY_MODEL_4707f215681048708517633f6520b017",
            "max": 4542,
            "min": 0,
            "orientation": "horizontal",
            "style": "IPY_MODEL_044a4f7a49ff41fb8af95c27b4a5ad5e",
            "value": 4542
          }
        },
        "2f72f681bed949058c9f5490d386fe98": {
          "model_module": "@jupyter-widgets/controls",
          "model_name": "HTMLModel",
          "model_module_version": "1.5.0",
          "state": {
            "_dom_classes": [],
            "_model_module": "@jupyter-widgets/controls",
            "_model_module_version": "1.5.0",
            "_model_name": "HTMLModel",
            "_view_count": null,
            "_view_module": "@jupyter-widgets/controls",
            "_view_module_version": "1.5.0",
            "_view_name": "HTMLView",
            "description": "",
            "description_tooltip": null,
            "layout": "IPY_MODEL_ed9a95b239534db48ec968f5ecb298b2",
            "placeholder": "​",
            "style": "IPY_MODEL_464d14d4e447433f936623eb832431c1",
            "value": " 4542/4542 [00:00&lt;00:00, 331937.01it/s]"
          }
        },
        "172a3163220f4360b30fae3cb3a95d05": {
          "model_module": "@jupyter-widgets/base",
          "model_name": "LayoutModel",
          "model_module_version": "1.2.0",
          "state": {
            "_model_module": "@jupyter-widgets/base",
            "_model_module_version": "1.2.0",
            "_model_name": "LayoutModel",
            "_view_count": null,
            "_view_module": "@jupyter-widgets/base",
            "_view_module_version": "1.2.0",
            "_view_name": "LayoutView",
            "align_content": null,
            "align_items": null,
            "align_self": null,
            "border": null,
            "bottom": null,
            "display": null,
            "flex": null,
            "flex_flow": null,
            "grid_area": null,
            "grid_auto_columns": null,
            "grid_auto_flow": null,
            "grid_auto_rows": null,
            "grid_column": null,
            "grid_gap": null,
            "grid_row": null,
            "grid_template_areas": null,
            "grid_template_columns": null,
            "grid_template_rows": null,
            "height": null,
            "justify_content": null,
            "justify_items": null,
            "left": null,
            "margin": null,
            "max_height": null,
            "max_width": null,
            "min_height": null,
            "min_width": null,
            "object_fit": null,
            "object_position": null,
            "order": null,
            "overflow": null,
            "overflow_x": null,
            "overflow_y": null,
            "padding": null,
            "right": null,
            "top": null,
            "visibility": null,
            "width": null
          }
        },
        "bbac173d05fa4130a804bea2bf68eaab": {
          "model_module": "@jupyter-widgets/base",
          "model_name": "LayoutModel",
          "model_module_version": "1.2.0",
          "state": {
            "_model_module": "@jupyter-widgets/base",
            "_model_module_version": "1.2.0",
            "_model_name": "LayoutModel",
            "_view_count": null,
            "_view_module": "@jupyter-widgets/base",
            "_view_module_version": "1.2.0",
            "_view_name": "LayoutView",
            "align_content": null,
            "align_items": null,
            "align_self": null,
            "border": null,
            "bottom": null,
            "display": null,
            "flex": null,
            "flex_flow": null,
            "grid_area": null,
            "grid_auto_columns": null,
            "grid_auto_flow": null,
            "grid_auto_rows": null,
            "grid_column": null,
            "grid_gap": null,
            "grid_row": null,
            "grid_template_areas": null,
            "grid_template_columns": null,
            "grid_template_rows": null,
            "height": null,
            "justify_content": null,
            "justify_items": null,
            "left": null,
            "margin": null,
            "max_height": null,
            "max_width": null,
            "min_height": null,
            "min_width": null,
            "object_fit": null,
            "object_position": null,
            "order": null,
            "overflow": null,
            "overflow_x": null,
            "overflow_y": null,
            "padding": null,
            "right": null,
            "top": null,
            "visibility": null,
            "width": null
          }
        },
        "657e4f9d565543cab61fcc73693c097c": {
          "model_module": "@jupyter-widgets/controls",
          "model_name": "DescriptionStyleModel",
          "model_module_version": "1.5.0",
          "state": {
            "_model_module": "@jupyter-widgets/controls",
            "_model_module_version": "1.5.0",
            "_model_name": "DescriptionStyleModel",
            "_view_count": null,
            "_view_module": "@jupyter-widgets/base",
            "_view_module_version": "1.2.0",
            "_view_name": "StyleView",
            "description_width": ""
          }
        },
        "4707f215681048708517633f6520b017": {
          "model_module": "@jupyter-widgets/base",
          "model_name": "LayoutModel",
          "model_module_version": "1.2.0",
          "state": {
            "_model_module": "@jupyter-widgets/base",
            "_model_module_version": "1.2.0",
            "_model_name": "LayoutModel",
            "_view_count": null,
            "_view_module": "@jupyter-widgets/base",
            "_view_module_version": "1.2.0",
            "_view_name": "LayoutView",
            "align_content": null,
            "align_items": null,
            "align_self": null,
            "border": null,
            "bottom": null,
            "display": null,
            "flex": null,
            "flex_flow": null,
            "grid_area": null,
            "grid_auto_columns": null,
            "grid_auto_flow": null,
            "grid_auto_rows": null,
            "grid_column": null,
            "grid_gap": null,
            "grid_row": null,
            "grid_template_areas": null,
            "grid_template_columns": null,
            "grid_template_rows": null,
            "height": null,
            "justify_content": null,
            "justify_items": null,
            "left": null,
            "margin": null,
            "max_height": null,
            "max_width": null,
            "min_height": null,
            "min_width": null,
            "object_fit": null,
            "object_position": null,
            "order": null,
            "overflow": null,
            "overflow_x": null,
            "overflow_y": null,
            "padding": null,
            "right": null,
            "top": null,
            "visibility": null,
            "width": null
          }
        },
        "044a4f7a49ff41fb8af95c27b4a5ad5e": {
          "model_module": "@jupyter-widgets/controls",
          "model_name": "ProgressStyleModel",
          "model_module_version": "1.5.0",
          "state": {
            "_model_module": "@jupyter-widgets/controls",
            "_model_module_version": "1.5.0",
            "_model_name": "ProgressStyleModel",
            "_view_count": null,
            "_view_module": "@jupyter-widgets/base",
            "_view_module_version": "1.2.0",
            "_view_name": "StyleView",
            "bar_color": null,
            "description_width": ""
          }
        },
        "ed9a95b239534db48ec968f5ecb298b2": {
          "model_module": "@jupyter-widgets/base",
          "model_name": "LayoutModel",
          "model_module_version": "1.2.0",
          "state": {
            "_model_module": "@jupyter-widgets/base",
            "_model_module_version": "1.2.0",
            "_model_name": "LayoutModel",
            "_view_count": null,
            "_view_module": "@jupyter-widgets/base",
            "_view_module_version": "1.2.0",
            "_view_name": "LayoutView",
            "align_content": null,
            "align_items": null,
            "align_self": null,
            "border": null,
            "bottom": null,
            "display": null,
            "flex": null,
            "flex_flow": null,
            "grid_area": null,
            "grid_auto_columns": null,
            "grid_auto_flow": null,
            "grid_auto_rows": null,
            "grid_column": null,
            "grid_gap": null,
            "grid_row": null,
            "grid_template_areas": null,
            "grid_template_columns": null,
            "grid_template_rows": null,
            "height": null,
            "justify_content": null,
            "justify_items": null,
            "left": null,
            "margin": null,
            "max_height": null,
            "max_width": null,
            "min_height": null,
            "min_width": null,
            "object_fit": null,
            "object_position": null,
            "order": null,
            "overflow": null,
            "overflow_x": null,
            "overflow_y": null,
            "padding": null,
            "right": null,
            "top": null,
            "visibility": null,
            "width": null
          }
        },
        "464d14d4e447433f936623eb832431c1": {
          "model_module": "@jupyter-widgets/controls",
          "model_name": "DescriptionStyleModel",
          "model_module_version": "1.5.0",
          "state": {
            "_model_module": "@jupyter-widgets/controls",
            "_model_module_version": "1.5.0",
            "_model_name": "DescriptionStyleModel",
            "_view_count": null,
            "_view_module": "@jupyter-widgets/base",
            "_view_module_version": "1.2.0",
            "_view_name": "StyleView",
            "description_width": ""
          }
        }
      }
    }
  },
  "nbformat": 4,
  "nbformat_minor": 0
}